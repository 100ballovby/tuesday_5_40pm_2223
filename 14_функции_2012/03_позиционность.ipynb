{
 "cells": [
  {
   "cell_type": "markdown",
   "metadata": {
    "collapsed": true
   },
   "source": [
    "# Аргументы. Позиционность и значения по умолчанию\n",
    "\n",
    "<p style=\"font-size: 18px;\">Аргументы позиционны! Это означает, что передавать аргументы функции нужно в таком же порядке, в котором определены параметры. Создадим функцию, которая из 3 цифр создает трехзначное число:</p>"
   ]
  },
  {
   "cell_type": "code",
   "execution_count": 11,
   "metadata": {},
   "outputs": [],
   "source": [
    "def spam(x, y, z):\n",
    "    return 100 * x + 10 * y + 1 * z"
   ]
  },
  {
   "cell_type": "markdown",
   "metadata": {},
   "source": [
    "<p style=\"font-size: 18px;\">Если передать этой функции <code>1</code>, <code>2</code>, <code>3</code>, получим число <code>123</code>, но если поменять порядок аргументов, число будет другим. Потому что сработает правило.</p>"
   ]
  },
  {
   "cell_type": "code",
   "execution_count": 12,
   "metadata": {},
   "outputs": [
    {
     "name": "stdout",
     "output_type": "stream",
     "text": [
      "456\n",
      "654\n"
     ]
    }
   ],
   "source": [
    "print(spam(4, 5, 6))\n",
    "print(spam(6, 5, 4))"
   ]
  },
  {
   "cell_type": "markdown",
   "metadata": {},
   "source": [
    "<p style=\"font-size: 18px;\">Этого можно избежать, если передавать аргументы поименно. То есть писать имя параметра перед передаваемым аргументом:</p>"
   ]
  },
  {
   "cell_type": "code",
   "execution_count": 13,
   "metadata": {},
   "outputs": [
    {
     "name": "stdout",
     "output_type": "stream",
     "text": [
      "456\n"
     ]
    }
   ],
   "source": [
    "print(spam(z=6, x=4, y=5))"
   ]
  },
  {
   "cell_type": "markdown",
   "metadata": {},
   "source": [
    "<p style=\"font-size: 18px;\">Некоторые функции, в том числе встроенные, могут получать несколько параметров, а могут получать только один. Например, функция <code>round</code> способна округлять числа либо по арифметическим правилам округления, либо до определенного количества знаков после запятой:</p>"
   ]
  },
  {
   "cell_type": "code",
   "execution_count": 14,
   "metadata": {},
   "outputs": [
    {
     "name": "stdout",
     "output_type": "stream",
     "text": [
      "5\n",
      "3.14\n"
     ]
    }
   ],
   "source": [
    "print(round(4.78))\n",
    "print(round(3.1415, 2))"
   ]
  },
  {
   "cell_type": "markdown",
   "metadata": {},
   "source": [
    "<p style=\"font-size: 18px;\">Такое поведение возможно за счет того, что у функции есть параметр по умолчанию. Если в ваших функциях будут параметры по умолчанию, это позволит вам не передавать некоторые аргументы при вызове функций.</p>"
   ]
  },
  {
   "cell_type": "code",
   "execution_count": 15,
   "metadata": {},
   "outputs": [
    {
     "ename": "TypeError",
     "evalue": "spam() missing 1 required positional argument: 'z'",
     "output_type": "error",
     "traceback": [
      "\u001B[0;31m---------------------------------------------------------------------------\u001B[0m",
      "\u001B[0;31mTypeError\u001B[0m                                 Traceback (most recent call last)",
      "\u001B[0;32m/var/folders/kg/wys5qw45109bn_kq6647wwzw0000gn/T/ipykernel_2856/3791389244.py\u001B[0m in \u001B[0;36m<module>\u001B[0;34m\u001B[0m\n\u001B[0;32m----> 1\u001B[0;31m \u001B[0mprint\u001B[0m\u001B[0;34m(\u001B[0m\u001B[0mspam\u001B[0m\u001B[0;34m(\u001B[0m\u001B[0;36m4\u001B[0m\u001B[0;34m,\u001B[0m \u001B[0;36m5\u001B[0m\u001B[0;34m)\u001B[0m\u001B[0;34m)\u001B[0m\u001B[0;34m\u001B[0m\u001B[0;34m\u001B[0m\u001B[0m\n\u001B[0m",
      "\u001B[0;31mTypeError\u001B[0m: spam() missing 1 required positional argument: 'z'"
     ]
    }
   ],
   "source": [
    "print(spam(4, 5))"
   ]
  },
  {
   "cell_type": "markdown",
   "metadata": {},
   "source": [
    "<p style=\"font-size: 18px;\">Так как в моей функции таких параметров нет, она ругается, если я передам недостаточное количество аргументов. Но можно ее переписать:</p>"
   ]
  },
  {
   "cell_type": "code",
   "execution_count": null,
   "metadata": {},
   "outputs": [],
   "source": [
    "def spam(x, y=0, z=0):  # параметр z по умолчанию имеет значение 0\n",
    "    return 100 * x + 10 * y + 1 * z\n",
    "\n",
    "print(spam(4))\n",
    "print(spam(4, 5))\n",
    "print(spam(4, 5, 2))"
   ]
  },
  {
   "cell_type": "markdown",
   "metadata": {},
   "source": [
    "<p style=\"font-size: 18px;\">Правило позиционности никуда не исчезло. <b><u>ВАЖНО! Параметры, значения которых задано по умолчанию, должны стоять последними</u></b>, если не все параметры функции заданы по умолчанию.</p>\n",
    "\n",
    "<p style=\"font-size: 18px;\"><code>def f(a=0, b, c)</code> - нельзя, потому что при передаче двух аргументов, первый встанет на место <code>а</code>, второй на место <code>b</code>, а <code>c</code> останется без значения.</p>\n",
    "<p style=\"font-size: 18px;\"><code>def f(b, c, a=0)</code> - можно.</p>\n",
    "<p style=\"font-size: 18px;\"><code>def f(b=0, c=0, a=0)</code> - можно.</p>\n"
   ]
  },
  {
   "cell_type": "code",
   "execution_count": null,
   "metadata": {},
   "outputs": [],
   "source": [
    "def spam(x=0, y=0, z=0):  # параметр z по умолчанию имеет значение 0\n",
    "    return 100 * x + 10 * y + 1 * z\n",
    "\n",
    "print(spam())"
   ]
  },
  {
   "cell_type": "code",
   "execution_count": null,
   "metadata": {},
   "outputs": [],
   "source": []
  }
 ],
 "metadata": {
  "kernelspec": {
   "display_name": "Python 3 (ipykernel)",
   "language": "python",
   "name": "python3"
  },
  "language_info": {
   "codemirror_mode": {
    "name": "ipython",
    "version": 3
   },
   "file_extension": ".py",
   "mimetype": "text/x-python",
   "name": "python",
   "nbconvert_exporter": "python",
   "pygments_lexer": "ipython3",
   "version": "3.9.4"
  }
 },
 "nbformat": 4,
 "nbformat_minor": 1
}
