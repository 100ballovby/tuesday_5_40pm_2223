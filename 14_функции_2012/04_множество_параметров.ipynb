{
 "cells": [
  {
   "cell_type": "markdown",
   "metadata": {
    "collapsed": true
   },
   "source": [
    "# Звездочки\n",
    "\n",
    "<p style=\"font-size: 18px;\">Функции могут принимать неопределенное количество аргументов, для этого используется оператор разыменовывания, который очень похож на знак умножения, но таком не является.</p>"
   ]
  },
  {
   "cell_type": "code",
   "execution_count": 12,
   "metadata": {},
   "outputs": [
    {
     "name": "stdout",
     "output_type": "stream",
     "text": [
      "[4, 5, 1, 6]\n",
      "4 5 1 6\n"
     ]
    }
   ],
   "source": [
    "a = [4, 5, 1, 6]\n",
    "print(a)\n",
    "print(*a)"
   ]
  },
  {
   "cell_type": "markdown",
   "metadata": {},
   "source": [
    "<p style=\"font-size: 18px;\">Если необходимо создать функцию, которая принимает 2, 3, 4, n... параметров, можно написать так:</p>"
   ]
  },
  {
   "cell_type": "code",
   "execution_count": 13,
   "metadata": {},
   "outputs": [],
   "source": [
    "def f1(n):\n",
    "    pass\n",
    "\n",
    "def f2(n1, n2):\n",
    "    pass \n",
    "\n",
    "def f3(n1, n2, n3):\n",
    "    pass "
   ]
  },
  {
   "cell_type": "markdown",
   "metadata": {},
   "source": [
    "<p style=\"font-size: 18px;\">Когда вы ставите звездочку перед идентификатором списка, вы \"разбираете\" его на отдельные элементы (строкой или единой последовательностью с пробелами он не становится).</p>\n",
    "\n",
    "<p style=\"font-size: 18px;\">Если поставить этот оператор перед параметром функции, она сможет принимать неограниченное количество аргументов.</p>\n",
    "\n",
    "<p style=\"font-size: 18px;\">НО если необходимо, чтобы функция принимала неограниченное количество параметров, мы сталкиваемся с тем, что нужно либо делать миллион параметров, где все по умолчанию 0, либо искать другой выход.</p>"
   ]
  },
  {
   "cell_type": "code",
   "execution_count": 14,
   "metadata": {},
   "outputs": [
    {
     "name": "stdout",
     "output_type": "stream",
     "text": [
      "<class 'tuple'>\n",
      "<class 'tuple'>\n",
      "<class 'tuple'>\n",
      "<class 'tuple'>\n"
     ]
    }
   ],
   "source": [
    "def func(*nums):\n",
    "    print(type(nums))\n",
    "    \n",
    "func(1)\n",
    "func(1, 2)\n",
    "func(1, 2, 3)\n",
    "func(1, 2, 3, 4)"
   ]
  },
  {
   "cell_type": "markdown",
   "metadata": {},
   "source": [
    "<p style=\"font-size: 18px;\">Звездочка передает все аргументы, которые вы отдаете функции в виде кортежа <code>class 'tuple'</code>. Кортеж - это итерируемый объект, то есть его можно передать циклу на обработку.</p>"
   ]
  },
  {
   "cell_type": "code",
   "execution_count": 15,
   "metadata": {},
   "outputs": [
    {
     "name": "stdout",
     "output_type": "stream",
     "text": [
      "4, 7, 8, 12, 5, \n",
      "4, 7, \n",
      "1, "
     ]
    }
   ],
   "source": [
    "def func(*nums):\n",
    "    for i in range(len(nums)):\n",
    "        print(nums[i], end=\", \")\n",
    "        \n",
    "func(4, 7, 8, 12, 5)\n",
    "print()\n",
    "func(4, 7)\n",
    "print()\n",
    "func(1)"
   ]
  },
  {
   "cell_type": "code",
   "execution_count": 15,
   "metadata": {},
   "outputs": [],
   "source": []
  }
 ],
 "metadata": {
  "kernelspec": {
   "display_name": "Python 3 (ipykernel)",
   "language": "python",
   "name": "python3"
  },
  "language_info": {
   "codemirror_mode": {
    "name": "ipython",
    "version": 3
   },
   "file_extension": ".py",
   "mimetype": "text/x-python",
   "name": "python",
   "nbconvert_exporter": "python",
   "pygments_lexer": "ipython3",
   "version": "3.9.4"
  }
 },
 "nbformat": 4,
 "nbformat_minor": 1
}
