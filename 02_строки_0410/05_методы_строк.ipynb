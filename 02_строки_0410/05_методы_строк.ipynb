{
 "cells": [
  {
   "cell_type": "markdown",
   "metadata": {
    "collapsed": true,
    "pycharm": {
     "is_executing": true
    }
   },
   "source": [
    "# Методы строк\n",
    "\n",
    "<p>Методы направлены на то, чтобы изменять или проверять строку на соответствие каким-либо условиям.</p>\n",
    "\n",
    "<p><code>.upper()</code> - метод приведения всех символов строки в верхний регистр.</p>"
   ]
  },
  {
   "cell_type": "code",
   "execution_count": 4,
   "metadata": {
    "pycharm": {
     "is_executing": true
    }
   },
   "outputs": [
    {
     "name": "stdout",
     "output_type": "stream",
     "text": [
      "ПРИВЕТ\n"
     ]
    }
   ],
   "source": [
    "a = 'привет'\n",
    "print(a.upper())"
   ]
  },
  {
   "cell_type": "markdown",
   "metadata": {},
   "source": [
    "<p><code>.lower()</code> - метод приведения всех символов строки в нижний регистр.</p>"
   ]
  },
  {
   "cell_type": "code",
   "execution_count": 7,
   "metadata": {},
   "outputs": [
    {
     "name": "stdout",
     "output_type": "stream",
     "text": [
      "hello!\n"
     ]
    }
   ],
   "source": [
    "word = 'HELLO!'\n",
    "print(word.lower())"
   ]
  },
  {
   "cell_type": "markdown",
   "metadata": {},
   "source": [
    "<p>Метод <code>.lower()</code> используется в тех случаях, когда важно, чтобы пользовательский ввод был в нижнем регистре. Например: пользователь вводит вам email при регистрации и вводит его так: <code>MyEmail@GMail.com</code>.</p>"
   ]
  },
  {
   "cell_type": "code",
   "execution_count": 8,
   "metadata": {},
   "outputs": [
    {
     "name": "stdout",
     "output_type": "stream",
     "text": [
      "False\n"
     ]
    }
   ],
   "source": [
    "email1 = 'MyEmail@GMail.com'\n",
    "email2 = 'myemail@gmail.com'\n",
    "\n",
    "print(email1 == email2)"
   ]
  },
  {
   "cell_type": "markdown",
   "metadata": {},
   "source": [
    "<p>Когда пользователь будет входить в личный кабинет после регистрации, нет гарантии, что он снова напишет свою почту так, как указал при регистрации. Поэтому задача сайта сделать так, чтобы убрать любые сложности в проверке почты.</p>"
   ]
  },
  {
   "cell_type": "code",
   "execution_count": 10,
   "metadata": {},
   "outputs": [
    {
     "name": "stdout",
     "output_type": "stream",
     "text": [
      "myemail@gmail.com\n",
      "True\n"
     ]
    }
   ],
   "source": [
    "email1 = 'MyEmail@GMail.com'\n",
    "email2 = 'myemail@gmail.com'\n",
    "email1 = email1.lower()\n",
    "print(email1)\n",
    "\n",
    "print(email1 == email2)"
   ]
  },
  {
   "cell_type": "markdown",
   "metadata": {},
   "source": [
    "<p><code>.capitalize()</code> - метод приведения всех символов строки в нижний регистр, кроме первой буквы (первый символ обязательно должен быть буквой).</p>"
   ]
  },
  {
   "cell_type": "code",
   "execution_count": 13,
   "metadata": {},
   "outputs": [
    {
     "name": "stdout",
     "output_type": "stream",
     "text": [
      "аНДРЕЙ\n",
      "Андрей\n",
      "#андрей\n"
     ]
    }
   ],
   "source": [
    "name = 'аНДРЕЙ'\n",
    "print(name)\n",
    "print(name.capitalize())\n",
    "\n",
    "print('#аНДРЕЙ'.capitalize())"
   ]
  },
  {
   "cell_type": "markdown",
   "metadata": {},
   "source": [
    "<p><code>.replace(что_меняем, на_что_меняем, сколько_раз)</code> - метод замены одного или нескольких символов строки на другие.</p>\n",
    "\n",
    "<p>Дело в том, что строки являются неизменяемыми объектами. То есть вы не можете обратиться к символу по индексу и сказать ему, что на его месте теперь будет другой символ.</p>"
   ]
  },
  {
   "cell_type": "code",
   "execution_count": 14,
   "metadata": {},
   "outputs": [
    {
     "ename": "TypeError",
     "evalue": "'str' object does not support item assignment",
     "output_type": "error",
     "traceback": [
      "\u001B[0;31m---------------------------------------------------------------------------\u001B[0m",
      "\u001B[0;31mTypeError\u001B[0m                                 Traceback (most recent call last)",
      "\u001B[0;32m/var/folders/kg/wys5qw45109bn_kq6647wwzw0000gn/T/ipykernel_2073/3968218741.py\u001B[0m in \u001B[0;36m<module>\u001B[0;34m\u001B[0m\n\u001B[1;32m      1\u001B[0m \u001B[0mc\u001B[0m \u001B[0;34m=\u001B[0m \u001B[0;34m'лошь'\u001B[0m\u001B[0;34m\u001B[0m\u001B[0;34m\u001B[0m\u001B[0m\n\u001B[0;32m----> 2\u001B[0;31m \u001B[0mc\u001B[0m\u001B[0;34m[\u001B[0m\u001B[0;36m2\u001B[0m\u001B[0;34m]\u001B[0m \u001B[0;34m=\u001B[0m \u001B[0;34m'ж'\u001B[0m  \u001B[0;31m# пытаюсь заменить букву с индексом 2 на другую\u001B[0m\u001B[0;34m\u001B[0m\u001B[0;34m\u001B[0m\u001B[0m\n\u001B[0m",
      "\u001B[0;31mTypeError\u001B[0m: 'str' object does not support item assignment"
     ]
    }
   ],
   "source": [
    "c = 'лошь'\n",
    "c[2] = 'ж'  # пытаюсь заменить букву с индексом 2 на другую"
   ]
  },
  {
   "cell_type": "markdown",
   "metadata": {},
   "source": [
    "<p><span style=\"color: red;\">TypeError</span>: 'str' не поддерживают переназначение элементов\n",
    "</p>\n",
    "\n",
    "<p>Поэтому для замены символов строк был придуман метод <code>replace()</code></p>"
   ]
  },
  {
   "cell_type": "code",
   "execution_count": 17,
   "metadata": {},
   "outputs": [
    {
     "name": "stdout",
     "output_type": "stream",
     "text": [
      "ложь\n"
     ]
    }
   ],
   "source": [
    "c = 'лошь'\n",
    "c = c.replace('ш', 'ж')\n",
    "print(c)"
   ]
  },
  {
   "cell_type": "markdown",
   "metadata": {},
   "source": [
    "<p>Метод позволяет менять сразу несколько букв и регулировать количество замен.</p>"
   ]
  },
  {
   "cell_type": "code",
   "execution_count": 19,
   "metadata": {},
   "outputs": [
    {
     "name": "stdout",
     "output_type": "stream",
     "text": [
      "малако\n"
     ]
    }
   ],
   "source": [
    "word = 'молоко'\n",
    "print(word.replace('о', 'а', 2))"
   ]
  },
  {
   "cell_type": "code",
   "execution_count": 20,
   "metadata": {},
   "outputs": [
    {
     "name": "stdout",
     "output_type": "stream",
     "text": [
      "Пока, Андрей!\n"
     ]
    }
   ],
   "source": [
    "phrase = 'Привет, Андрей!'\n",
    "print(phrase.replace('Привет', 'Пока'))"
   ]
  },
  {
   "cell_type": "markdown",
   "metadata": {},
   "source": [
    "## Методы проверки \n",
    "\n",
    "<p>Существует группа методов, способных проверять строку на соответствие каким-либо условиям.</p>\n",
    "\n",
    "<p><code>.startswith(<b>symb</b>)</code> - метод проверки, начинается ли строка с определенного символа или его последовательности.</p>"
   ]
  },
  {
   "cell_type": "code",
   "execution_count": 22,
   "metadata": {},
   "outputs": [
    {
     "name": "stdout",
     "output_type": "stream",
     "text": [
      "Введи слово, которое начинается с буквы А: ананас\n",
      "False\n"
     ]
    }
   ],
   "source": [
    "p = input('Введи слово, которое начинается с буквы А: ')\n",
    "\n",
    "print(p.startswith('А'))"
   ]
  },
  {
   "cell_type": "markdown",
   "metadata": {},
   "source": [
    "<p>Можно проверять не один символ, а сразу последовательности.</p>"
   ]
  },
  {
   "cell_type": "code",
   "execution_count": 23,
   "metadata": {},
   "outputs": [
    {
     "name": "stdout",
     "output_type": "stream",
     "text": [
      "True\n"
     ]
    }
   ],
   "source": [
    "p = 'Привет, Андрей! Зачем ты плюнул в голубей?'\n",
    "\n",
    "print(p.startswith('Привет'))"
   ]
  },
  {
   "cell_type": "markdown",
   "metadata": {},
   "source": [
    "<p><code>.endswith(<b>symb</b>)</code> - метод проверки, заканчивается ли строка определенным символом или последовательностью.</p>"
   ]
  },
  {
   "cell_type": "code",
   "execution_count": 25,
   "metadata": {},
   "outputs": [
    {
     "name": "stdout",
     "output_type": "stream",
     "text": [
      "False\n",
      "True\n"
     ]
    }
   ],
   "source": [
    "p = 'Привет, Андрей! Зачем ты плюнул в ГОЛУБЕЙ?'\n",
    "\n",
    "print(p.endswith('голубей?'))\n",
    "print(p.lower().endswith('голубей?'))"
   ]
  },
  {
   "cell_type": "markdown",
   "metadata": {},
   "source": [
    "<p>Можно проверить, чем является определенный символ строки.</p>\n",
    "\n",
    "<p><code>.isalpha()</code> - метод проверки символа на соответсвие букву.</p>\n",
    "<p><code>.isdigit()</code> - метод проверки символа на соответсвие числу.</p>\n",
    "<p><code>.isprintable()</code> - метод проверки символа на соответсвие любому печатному символу.</p>"
   ]
  },
  {
   "cell_type": "code",
   "execution_count": 28,
   "metadata": {},
   "outputs": [
    {
     "name": "stdout",
     "output_type": "stream",
     "text": [
      "True\n",
      "False\n",
      "False\n"
     ]
    }
   ],
   "source": [
    "print('ф'.isalpha()) \n",
    "print('5'.isalpha()) \n",
    "print(' '.isalpha()) "
   ]
  },
  {
   "cell_type": "code",
   "execution_count": 31,
   "metadata": {},
   "outputs": [
    {
     "name": "stdout",
     "output_type": "stream",
     "text": [
      "False\n",
      "True\n",
      "False\n"
     ]
    }
   ],
   "source": [
    "print('ф'.isdigit()) \n",
    "print('5'.isdigit()) \n",
    "print(' '.isdigit()) "
   ]
  },
  {
   "cell_type": "code",
   "execution_count": 32,
   "metadata": {},
   "outputs": [
    {
     "name": "stdout",
     "output_type": "stream",
     "text": [
      "True\n",
      "True\n",
      "True\n"
     ]
    }
   ],
   "source": [
    "print('ф'.isprintable()) \n",
    "print('5'.isprintable()) \n",
    "print(' '.isprintable()) "
   ]
  },
  {
   "cell_type": "markdown",
   "metadata": {},
   "source": [
    "<p>В задачах, где нужно найти знаки препинания <code>.isprintable()</code> бесполезен, потому что всегда дает <code>True</code>. НО!</p>"
   ]
  },
  {
   "cell_type": "code",
   "execution_count": 33,
   "metadata": {},
   "outputs": [
    {
     "name": "stdout",
     "output_type": "stream",
     "text": [
      "Введи знак препинания: ?\n",
      "True\n"
     ]
    }
   ],
   "source": [
    "a = input('Введи знак препинания: ')\n",
    "\n",
    "print(a in ',.!?^;:*()')"
   ]
  },
  {
   "cell_type": "markdown",
   "metadata": {},
   "source": [
    "<hr>\n",
    "\n",
    "<p>Из строк можно убирать пробелы, если они находятся в начале или в конце строки.</p>\n",
    "<p><code>.strip()</code> - метод, который убирает пробелы в начале и в конце строки.</p>"
   ]
  },
  {
   "cell_type": "code",
   "execution_count": 37,
   "metadata": {},
   "outputs": [
    {
     "name": "stdout",
     "output_type": "stream",
     "text": [
      "\"        hello!                \"\n",
      "\"hello!\"\n"
     ]
    }
   ],
   "source": [
    "a = '        hello!                '\n",
    "print('\"' + a + '\"')\n",
    "a = a.strip()\n",
    "print('\"' + a + '\"')"
   ]
  }
 ],
 "metadata": {
  "kernelspec": {
   "display_name": "Python 3 (ipykernel)",
   "language": "python",
   "name": "python3"
  },
  "language_info": {
   "codemirror_mode": {
    "name": "ipython",
    "version": 3
   },
   "file_extension": ".py",
   "mimetype": "text/x-python",
   "name": "python",
   "nbconvert_exporter": "python",
   "pygments_lexer": "ipython3",
   "version": "3.9.4"
  }
 },
 "nbformat": 4,
 "nbformat_minor": 1
}
