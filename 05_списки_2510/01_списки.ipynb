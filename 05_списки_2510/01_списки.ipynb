{
 "cells": [
  {
   "cell_type": "markdown",
   "metadata": {
    "collapsed": true,
    "pycharm": {
     "is_executing": true
    }
   },
   "source": [
    "# Списки (массивы)\n",
    "\n",
    "<p style=\"font-size: 18px;\"><b>Массив</b> - сложный тип данных, который позволяет хранить множество значений. Все значения в массиве должны быть представлены одним типом данных (только <code>int</code>/<code>float</code>/<code>str</code>) и если массив фиксированной длины, то там не может быть больше элементом, чем изначально указано.</p>\n",
    "\n",
    "<p style=\"font-size: 18px;\">В Python массивов нет. Вместо них представлен такой тип данных как списки - <code>&lt;class 'list'&gt;</code>.</p>\n",
    "\n",
    "<p style=\"font-size: 18px;\"><b>Список</b> - это упорядоченная коллекция данных, позволяющая хранить множество значений. В отличие от массивов списки не имеют ограничений по длине (количеству элементов, которые вы в них храните) и по типу данных, потому что Python невнятно с ними работает.</p>\n",
    "\n",
    "<p style=\"font-size: 18px;\">Список - это фактически строчка, но с небольшими <i>плюшками</i> в плане изменения, редактирования и работы.</p>\n",
    "\n",
    "<p style=\"font-size: 18px;\">Для того, чтобы создать список, нужно просто придумать ему имя (как переменная) и после значка присвоить - <code>=</code> - поставить две квадратные скобки.</p>"
   ]
  },
  {
   "cell_type": "code",
   "execution_count": null,
   "metadata": {
    "pycharm": {
     "is_executing": true
    }
   },
   "outputs": [],
   "source": [
    "my_list = []\n",
    "\n",
    "print(type(my_list))"
   ]
  },
  {
   "cell_type": "markdown",
   "metadata": {},
   "source": [
    "<p style=\"font-size: 18px;\">Списки - это упоряденная коллекция. Это означает, что каждый элемент списка будет иметь индекс (порядковый номер), как символы у строк. Индексы в списках работают точно так же, как работают индексы в строчках - вы можете обращаться к элементам списка по индексам, вы можете их <b>!изменять!</b> обратившись к индексу.</p>\n",
    "\n",
    "<p style=\"font-size: 18px;\">Чтобы обратиться к какому-то элементу списка, он должен в списке присутствовать. Вы можете указать элементы списка сразу при его создании, все элементы разделяются между собой запятыми.</p>"
   ]
  },
  {
   "cell_type": "code",
   "execution_count": 73,
   "metadata": {},
   "outputs": [],
   "source": [
    "my_list = [5, 6, 12, 9, 10, 8, 1, -5]"
   ]
  },
  {
   "cell_type": "markdown",
   "metadata": {},
   "source": [
    "<p style=\"font-size: 18px;\">Для обращения к элементу списка по индексу нужно написать имя списка и указать индекс элемента, с которым вы хотите работать.</p>"
   ]
  },
  {
   "cell_type": "code",
   "execution_count": 74,
   "metadata": {},
   "outputs": [
    {
     "name": "stdout",
     "output_type": "stream",
     "text": [
      "6\n"
     ]
    }
   ],
   "source": [
    "print(my_list[1])  # обращаюсь ко второгому элементу списка - 6"
   ]
  },
  {
   "cell_type": "markdown",
   "metadata": {},
   "source": [
    "<p style=\"font-size: 18px;\">Списки поддерживают разрезание. Для этого, как и в строчках, нужно указать начальный и конечный индекс среза списка. Конечный индекс в срез входить не будет.</p>"
   ]
  },
  {
   "cell_type": "code",
   "execution_count": 75,
   "metadata": {},
   "outputs": [
    {
     "name": "stdout",
     "output_type": "stream",
     "text": [
      "[5, 6, 12]\n",
      "[8, 1, -5]\n",
      "[12, 9, 10]\n"
     ]
    }
   ],
   "source": [
    "# срезать первые 3 элемента\n",
    "print(my_list[:3])  # с начала до 3 индекса\n",
    "# срезать последние 3 элемента\n",
    "print(my_list[-3:])  # с -3 и до конца\n",
    "# сделать срез из середины списка \n",
    "print(my_list[2:5])  # со 2 индекса и ДО 5 (5 не входит)"
   ]
  },
  {
   "cell_type": "markdown",
   "metadata": {},
   "source": [
    "<p style=\"font-size: 18px;\">Списки поддерживают замену элементов через обращение с индексом. Например, чтобы заменить 1 элемент списка, нужно обратиться к списку, указать индекс 0, поставить знак присвоить и указать новое значение, которое вы хотите присвоить списку.</p>"
   ]
  },
  {
   "cell_type": "code",
   "execution_count": 76,
   "metadata": {},
   "outputs": [
    {
     "name": "stdout",
     "output_type": "stream",
     "text": [
      "[5, 6, 12, 9, 10, 8, 1, -5]\n",
      "[153, 6, 12, 9, 10, 8, 1, -5]\n"
     ]
    }
   ],
   "source": [
    "print(my_list)\n",
    "my_list[0] = 3 + 12 * 50 // 2 ** 2\n",
    "print(my_list)"
   ]
  },
  {
   "cell_type": "markdown",
   "metadata": {},
   "source": [
    "## Математика и списки \n",
    "\n",
    "<p style=\"font-size: 18px;\">Со списками, так же, как и со строками, можно выполнять различные математические операции.</p>\n",
    "\n",
    "### Операция сложения +\n",
    "\n",
    "<p style=\"font-size: 18px;\">Списки можно складывать между собой. <b>НО! <code>list + list</code></b>, никакие другие типы данных со списками складывать нельзя. При сложении двух списков они просто склеятся и превратятся в один список.</p>\n",
    "<p style=\"font-size: 18px;\">Представьте, что у вас есть два списка покупок - от мамы и от бабушки. Если вы склеите скотчем два листика, у вас получится единый список.</p>"
   ]
  },
  {
   "cell_type": "code",
   "execution_count": 77,
   "metadata": {},
   "outputs": [
    {
     "name": "stdout",
     "output_type": "stream",
     "text": [
      "Первый список: [153, 6, 12, 9, 10, 8, 1, -5]\n",
      "Второй список: [2.5, 1.3, 5.6]\n",
      "Третий список: [153, 6, 12, 9, 10, 8, 1, -5, 2.5, 1.3, 5.6]\n"
     ]
    }
   ],
   "source": [
    "numbers = [2.5, 1.3, 5.6]\n",
    "another_list = my_list + numbers\n",
    "\n",
    "print('Первый список:', my_list)\n",
    "print('Второй список:', numbers)\n",
    "print('Третий список:', another_list)"
   ]
  },
  {
   "cell_type": "markdown",
   "metadata": {},
   "source": [
    "<p style=\"font-size: 18px;\">Если вы попытаетесь сложить другие типы данных со списком, вы получите ошибку:</p>"
   ]
  },
  {
   "cell_type": "code",
   "execution_count": 78,
   "metadata": {},
   "outputs": [
    {
     "ename": "TypeError",
     "evalue": "can only concatenate list (not \"float\") to list",
     "output_type": "error",
     "traceback": [
      "\u001B[1;31m---------------------------------------------------------------------------\u001B[0m",
      "\u001B[1;31mTypeError\u001B[0m                                 Traceback (most recent call last)",
      "Cell \u001B[1;32mIn [78], line 1\u001B[0m\n\u001B[1;32m----> 1\u001B[0m \u001B[38;5;28mprint\u001B[39m(\u001B[43mnumbers\u001B[49m\u001B[43m \u001B[49m\u001B[38;5;241;43m+\u001B[39;49m\u001B[43m \u001B[49m\u001B[38;5;241;43m1.78\u001B[39;49m)\n",
      "\u001B[1;31mTypeError\u001B[0m: can only concatenate list (not \"float\") to list"
     ]
    }
   ],
   "source": [
    "print(numbers + 1.78)"
   ]
  },
  {
   "cell_type": "markdown",
   "metadata": {},
   "source": [
    "### Операция разности - \n",
    "\n",
    "<p style=\"font-size: 18px;\">Разность со списками осуществить нельзя.</p>\n",
    "\n",
    "### Операция умножение *\n",
    "\n",
    "<p style=\"font-size: 18px;\">Списки, как и строки, поддерживают умножение. НО! <b><code>list * int</code></b>, ни на какие другие типы данных, кроме целого числа, списки умножать нельзя. Операция похожа на ситуацию, когда вы кладете листик с текстом в сканер и печаете несколько экземпляров.</p>\n",
    "\n",
    "<p style=\"font-size: 18px;\">Результатом умножения списка на число будет список, состоящий из себя же, количество элементов будет пропорционально числу, на которое вы умножили список.</p>"
   ]
  },
  {
   "cell_type": "code",
   "execution_count": null,
   "metadata": {},
   "outputs": [],
   "source": [
    "# print([3, 4, 2] * 3)"
   ]
  },
  {
   "cell_type": "markdown",
   "metadata": {},
   "source": [
    "### Операция деление /\n",
    "\n",
    "<p style=\"font-size: 18px;\">Мы не можем делить строки, а так как списки на строки похожи, их тоже разделить нельзя. Потому что список хоть и изменяемый тип данных, но операция деления слишком не логична, чтобы было возможно выполнить ее со списками.</p>\n",
    "\n",
    "<hr>\n",
    "\n",
    "## Методы списков\n",
    "\n",
    "<p style=\"font-size: 18px;\">Так же, как и строчки, списки имеют достаточно большое количество методов, которые вы можете к ним применять. Методы могут влиять на структуру списка, на его порядок или изменять его в принципе.</p>\n",
    "\n",
    "### Метод добавления элементов в список.\n",
    "\n",
    "<p style=\"font-size: 18px;\">Элементы в список можно добавлять вручную, но можно сделать это автоматически. Для добавления элемента в список используется метод <code>.append(<b>obj</b>)</code> - добавляет объект <code>obj</code> в конец списка.</p>"
   ]
  },
  {
   "cell_type": "code",
   "execution_count": 79,
   "metadata": {},
   "outputs": [
    {
     "name": "stdout",
     "output_type": "stream",
     "text": [
      "['Audi', 'BMW', 'Honda', 'Mercedes', 'Toyota']\n"
     ]
    }
   ],
   "source": [
    "cars = ['Audi', 'BMW', 'Honda']\n",
    "cars.append('Mercedes')\n",
    "cars.append('Toyota')\n",
    "\n",
    "print(cars)"
   ]
  },
  {
   "cell_type": "markdown",
   "metadata": {},
   "source": [
    "<p style=\"font-size: 18px;\">Добавление элементов в список не меняет сам список. Элементы в нем будут находиться до того момента, пока ваша программа работает.</p>\n",
    "\n",
    "<p style=\"font-size: 18px;\"><code>append</code> неудобен, когда речь идет о добавлении сразу нескольких элементов. В этом случае вам нужно будет написать метод столько раз, сколько элементов нужно добавить в список. Но есть вариант проще.</p>\n",
    "\n",
    "### Метод расширения списка\n",
    "\n",
    "<p style=\"font-size: 18px;\">Чтобы добавить сразу несколько элементов в список, используется метод <code>.extend(<b>iterable</b>)</code> - добавляет коллекцию <code>iterable</code> в конец списка. В коллекции может находиться любое количество элементов.</p>"
   ]
  },
  {
   "cell_type": "code",
   "execution_count": 80,
   "metadata": {},
   "outputs": [
    {
     "name": "stdout",
     "output_type": "stream",
     "text": [
      "['Audi', 'BMW', 'Honda', 'Mercedes', 'Toyota', 'Volkswagen', 'Porsche', 'GMC', 'Lamborgini']\n"
     ]
    }
   ],
   "source": [
    "cars.extend(['Volkswagen', 'Porsche', 'GMC', 'Lamborgini'])\n",
    "print(cars)"
   ]
  },
  {
   "cell_type": "markdown",
   "metadata": {},
   "source": [
    "### Метод вставки элемента в список на определенное место\n",
    "\n",
    "<p style=\"font-size: 18px;\">Методы добавления закидывают элемент в самый конец списка. Если вам нужно поместить элемент в определенное место списка, используется метод <code>.insert(<b>index</b>, <b>obj</b>)</code> - вставляет объект <code>obj</code> на место индекса <code>index</code>.</p>"
   ]
  },
  {
   "cell_type": "code",
   "execution_count": 81,
   "metadata": {},
   "outputs": [
    {
     "name": "stdout",
     "output_type": "stream",
     "text": [
      "Вывожу 2 элемент списка:  BMW\n",
      "['Audi', 'Lincoln', 'BMW', 'Honda', 'Mercedes', 'Toyota', 'Volkswagen', 'Porsche', 'GMC', 'Lamborgini']\n",
      "Вывожу 2 элемент списка:  Lincoln\n"
     ]
    }
   ],
   "source": [
    "print('Вывожу 2 элемент списка: ', cars[1])\n",
    "cars.insert(1, 'Lincoln')\n",
    "print(cars)\n",
    "print('Вывожу 2 элемент списка: ', cars[1])"
   ]
  },
  {
   "cell_type": "markdown",
   "metadata": {},
   "source": [
    "<p style=\"font-size: 18px;\">Если вы вставляете элемент в начало, все остальные элементы, стоящие после него, будут сдвинуты на одну позицию вправо. Их индексы изменятся.</p>\n",
    "\n",
    "### Методы удаления значений из списков\n",
    "\n",
    "<p style=\"font-size: 18px;\">Для удаления элементов списка используется два метода:</p>\n",
    "\n",
    "<ol style=\"font-size: 18px;\">\n",
    "    <li><code>.remove(<b>obj</b>)</code> - удаляет объект <code>obj</code> из списка. При этом для удаления нужно указывать сам элемент, а не его индекс;</li>\n",
    "    <li><code>.pop()</code> или <code>.pop(<b>index</b>) - удаляет последний элемент списка, если не передать индекс. Или удаляет элемент с соответствующим индексом, если его передать.</code>\n",
    "</ol>"
   ]
  },
  {
   "cell_type": "code",
   "execution_count": 82,
   "metadata": {},
   "outputs": [
    {
     "name": "stdout",
     "output_type": "stream",
     "text": [
      "['Audi', 'Lincoln', 'BMW', 'Honda', 'Mercedes', 'Toyota', 'Volkswagen', 'Porsche', 'GMC', 'Lamborgini']\n",
      "Удалил Audi:  ['Lincoln', 'BMW', 'Honda', 'Mercedes', 'Toyota', 'Volkswagen', 'Porsche', 'GMC', 'Lamborgini']\n",
      "Удалил последний элемент списка:  ['Lincoln', 'BMW', 'Honda', 'Mercedes', 'Toyota', 'Volkswagen', 'Porsche', 'GMC']\n",
      "Удалил элемент с индексом 5 (Volkswagen) ['Lincoln', 'BMW', 'Honda', 'Mercedes', 'Toyota', 'Porsche', 'GMC']\n"
     ]
    }
   ],
   "source": [
    "print(cars)\n",
    "cars.remove('Audi')\n",
    "print('Удалил Audi: ', cars)\n",
    "cars.pop()\n",
    "print('Удалил последний элемент списка: ', cars)\n",
    "cars.pop(5)\n",
    "print('Удалил элемент с индексом 5 (Volkswagen)', cars)"
   ]
  },
  {
   "cell_type": "markdown",
   "metadata": {},
   "source": [
    "## Методы изменения структуры списков\n",
    "\n",
    "<p style=\"font-size: 18px;\">Списки являются изменяемыми объектами. Это означает, что на их структуру можно влиять. Как минимум у вас есть возможность сортировать списки. Для этого используется два метода:</p>\n",
    "\n",
    "<ol style=\"font-size: 18px;\">\n",
    "    <li><code>.sort()</code> - сортирует элементы списка по возрастанию;</li>\n",
    "    <li><code>.reverse()</code> - разворачивает список, но без сортировки.</code>\n",
    "</ol>"
   ]
  },
  {
   "cell_type": "code",
   "execution_count": 83,
   "metadata": {},
   "outputs": [
    {
     "name": "stdout",
     "output_type": "stream",
     "text": [
      "[-9, -5, -2, 1, 2, 7, 7, 8, 13, 100]\n"
     ]
    }
   ],
   "source": [
    "integers = [7, 8, 2, 1, -9, -5, 13, 7, -2, 100]\n",
    "\n",
    "integers.sort()\n",
    "print(integers)"
   ]
  },
  {
   "cell_type": "code",
   "execution_count": 84,
   "metadata": {},
   "outputs": [
    {
     "name": "stdout",
     "output_type": "stream",
     "text": [
      "[100, -2, 7, 13, -5, -9, 1, 2, 8, 7]\n"
     ]
    }
   ],
   "source": [
    "integers = [7, 8, 2, 1, -9, -5, 13, 7, -2, 100]\n",
    "\n",
    "integers.reverse()\n",
    "print(integers)"
   ]
  },
  {
   "cell_type": "code",
   "execution_count": null,
   "metadata": {},
   "outputs": [],
   "source": []
  }
 ],
 "metadata": {
  "kernelspec": {
   "display_name": "Python 3 (ipykernel)",
   "language": "python",
   "name": "python3"
  },
  "language_info": {
   "codemirror_mode": {
    "name": "ipython",
    "version": 3
   },
   "file_extension": ".py",
   "mimetype": "text/x-python",
   "name": "python",
   "nbconvert_exporter": "python",
   "pygments_lexer": "ipython3",
   "version": "3.9.4"
  }
 },
 "nbformat": 4,
 "nbformat_minor": 1
}
