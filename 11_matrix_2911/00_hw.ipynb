{
 "cells": [
  {
   "cell_type": "markdown",
   "metadata": {
    "collapsed": true
   },
   "source": [
    "# ДЗ. Простейшие действия с матрицами \n",
    "\n",
    "<p style=\"font-size: 18px;\">\n",
    "    Теория по матрицам <a href=\"https://mathprofi.com/knigi_i_kursy/files/demo_matricy_opredeliteli.pdf\" target=\"_blank\">здесь</a>.\n",
    "</p>\n",
    "\n",
    "<p style=\"font-size: 18px;\">Необходимо выполнить следующие операции:</p>\n",
    "<ul style=\"font-size: 18px;\">\n",
    "    <li>Сложение матриц</li>\n",
    "    <li>Внесение минуса в матрицу</li>\n",
    "    <li>Умножение матрицы на число</li>\n",
    "    <li>Умножение матрицы на дробь</li>\n",
    "</ul>\n",
    "\n",
    "<p style=\"font-size: 18px;\">Для сложения матриц необходимо, чтобы они были одинакового размера!</p>\n",
    "\n",
    "<p style=\"font-size: 18px;\">Для начала создадим и наполним матрицы числами</p>"
   ]
  },
  {
   "cell_type": "code",
   "execution_count": 15,
   "metadata": {},
   "outputs": [
    {
     "name": "stdout",
     "output_type": "stream",
     "text": [
      "Количество строк: 4\n",
      "Количество столбцов: 5\n",
      "Количество строк: 4\n",
      "Количество столбцов: 5\n",
      "\n",
      "Матрица 1\n",
      "16\t14\t6\t1\t21\t\n",
      "16\t5\t14\t4\t9\t\n",
      "14\t20\t1\t20\t18\t\n",
      "7\t17\t12\t7\t2\t\n",
      "\n",
      "Матрица 2\n",
      "3\t9\t4\t3\t20\t\n",
      "6\t15\t18\t15\t5\t\n",
      "16\t7\t19\t16\t6\t\n",
      "14\t12\t11\t14\t19\t\n"
     ]
    }
   ],
   "source": [
    "import random as r \n",
    "\n",
    "n1 = int(input('Количество строк: '))\n",
    "m1 = int(input('Количество столбцов: '))\n",
    "n2 = int(input('Количество строк: '))\n",
    "m2 = int(input('Количество столбцов: '))\n",
    "\n",
    "matrix1 = []\n",
    "matrix2 = []\n",
    "\n",
    "# наполним матрицу 1 \n",
    "print('\\nМатрица 1')\n",
    "for i in range(n1):\n",
    "    line = []\n",
    "    for j in range(m1):\n",
    "        n = r.randint(0, 21)\n",
    "        line.append(n)\n",
    "        print(n, end=\"\\t\")\n",
    "    matrix1.append(line)\n",
    "    print()\n",
    "    \n",
    "# наполним матрицу 2\n",
    "print('\\nМатрица 2')\n",
    "for i in range(n2):\n",
    "    line = []\n",
    "    for j in range(m2):\n",
    "        n = r.randint(0, 21)\n",
    "        line.append(n)\n",
    "        print(n, end=\"\\t\")\n",
    "    matrix2.append(line)\n",
    "    print()\n"
   ]
  },
  {
   "cell_type": "markdown",
   "metadata": {},
   "source": [
    "<p style=\"font-size: 18px;\">Для проверки размера матриц просто сравним переменные, которые хранят количество строк и количество столбцов для каждой матрицы. Создание новой матрицы, в которой будут сложены числа, не требуется.</p>"
   ]
  },
  {
   "cell_type": "code",
   "execution_count": 16,
   "metadata": {},
   "outputs": [
    {
     "name": "stdout",
     "output_type": "stream",
     "text": [
      "19\t23\t10\t4\t41\t\n",
      "22\t20\t32\t19\t14\t\n",
      "30\t27\t20\t36\t24\t\n",
      "21\t29\t23\t21\t21\t\n"
     ]
    }
   ],
   "source": [
    "if (n1 == n2) and (m1 == m2):\n",
    "    for i in range(n1):\n",
    "        for j in range(m1):\n",
    "            print(matrix1[i][j] + matrix2[i][j], end=\"\\t\")\n",
    "        print()\n",
    "else:\n",
    "    print('матрицы разного размера, складывать нельзя.')"
   ]
  },
  {
   "cell_type": "markdown",
   "metadata": {},
   "source": [
    "## Внесение минуса в матрицу\n",
    "<p style=\"font-size: 18px;\">Чтобы внести в матрицу минус, нужно просто умножить каждый ее элемент на -1.</p>"
   ]
  },
  {
   "cell_type": "code",
   "execution_count": 17,
   "metadata": {},
   "outputs": [
    {
     "name": "stdout",
     "output_type": "stream",
     "text": [
      "\n",
      "Матрица 2\n",
      "-3\t-9\t-4\t-3\t-20\t\n",
      "-6\t-15\t-18\t-15\t-5\t\n",
      "-16\t-7\t-19\t-16\t-6\t\n",
      "-14\t-12\t-11\t-14\t-19\t\n"
     ]
    }
   ],
   "source": [
    "print('\\nМатрица 2')\n",
    "for i in range(n2):\n",
    "    for j in range(m2):\n",
    "        matrix2[i][j] *= -1\n",
    "        print(matrix2[i][j], end=\"\\t\")\n",
    "    print()"
   ]
  },
  {
   "cell_type": "markdown",
   "metadata": {},
   "source": [
    "## Вынесение минуса в матрицу\n",
    "<p style=\"font-size: 18px;\">Чтобы вынести из матрицы минус, нужно просто умножить каждый ее элемент на -1.</p>"
   ]
  },
  {
   "cell_type": "code",
   "execution_count": 18,
   "metadata": {},
   "outputs": [
    {
     "name": "stdout",
     "output_type": "stream",
     "text": [
      "\n",
      "Матрица 2\n",
      "3\t9\t4\t3\t20\t\n",
      "6\t15\t18\t15\t5\t\n",
      "16\t7\t19\t16\t6\t\n",
      "14\t12\t11\t14\t19\t\n"
     ]
    }
   ],
   "source": [
    "print('\\nМатрица 2')\n",
    "for i in range(n2):\n",
    "    for j in range(m2):\n",
    "        matrix2[i][j] *= -1\n",
    "        print(matrix2[i][j], end=\"\\t\")\n",
    "    print()"
   ]
  },
  {
   "cell_type": "markdown",
   "metadata": {},
   "source": [
    "## Умножение матрицы на число\n",
    "<p style=\"font-size: 18px;\">Всё просто, для того чтобы умножить матрицу на число, нужно каждый элемент\n",
    "матрицы умножить на данное число.</p>"
   ]
  },
  {
   "cell_type": "code",
   "execution_count": 19,
   "metadata": {},
   "outputs": [
    {
     "name": "stdout",
     "output_type": "stream",
     "text": [
      "Введите число: 5\n",
      "\n",
      "Матрица 1\n",
      "80\t70\t30\t5\t105\t\n",
      "80\t25\t70\t20\t45\t\n",
      "70\t100\t5\t100\t90\t\n",
      "35\t85\t60\t35\t10\t\n"
     ]
    }
   ],
   "source": [
    "n = int(input('Введите число: '))\n",
    "\n",
    "print('\\nМатрица 1')\n",
    "for i in range(n1):\n",
    "    for j in range(m1):\n",
    "        matrix1[i][j] *= n\n",
    "        print(matrix1[i][j], end=\"\\t\")\n",
    "    print()"
   ]
  },
  {
   "cell_type": "markdown",
   "metadata": {},
   "source": [
    "## Умножение матрицы на дробь\n",
    "<p style=\"font-size: 18px;\">Всё просто, для того чтобы умножить матрицу на число, нужно каждый элемент\n",
    "матрицы умножить на данную дробь.</p>"
   ]
  },
  {
   "cell_type": "code",
   "execution_count": 20,
   "metadata": {},
   "outputs": [
    {
     "name": "stdout",
     "output_type": "stream",
     "text": [
      "Введите дробь в формате числитель/знаменатель: -1/7\n",
      "\n",
      "Матрица 1\n",
      "-11.43\t-10.0\t-4.29\t-0.71\t-15.0\t\n",
      "-11.43\t-3.57\t-10.0\t-2.86\t-6.43\t\n",
      "-10.0\t-14.29\t-0.71\t-14.29\t-12.86\t\n",
      "-5.0\t-12.14\t-8.57\t-5.0\t-1.43\t\n"
     ]
    }
   ],
   "source": [
    "n = eval(input('Введите дробь в формате числитель/знаменатель: '))\n",
    "\n",
    "print('\\nМатрица 1')\n",
    "for i in range(n1):\n",
    "    for j in range(m1):\n",
    "        matrix1[i][j] *= n\n",
    "        print(round(matrix1[i][j], 2), end=\"\\t\")\n",
    "    print()"
   ]
  },
  {
   "cell_type": "code",
   "execution_count": null,
   "metadata": {},
   "outputs": [],
   "source": []
  }
 ],
 "metadata": {
  "kernelspec": {
   "display_name": "Python 3 (ipykernel)",
   "language": "python",
   "name": "python3"
  },
  "language_info": {
   "codemirror_mode": {
    "name": "ipython",
    "version": 3
   },
   "file_extension": ".py",
   "mimetype": "text/x-python",
   "name": "python",
   "nbconvert_exporter": "python",
   "pygments_lexer": "ipython3",
   "version": "3.9.4"
  }
 },
 "nbformat": 4,
 "nbformat_minor": 1
}
