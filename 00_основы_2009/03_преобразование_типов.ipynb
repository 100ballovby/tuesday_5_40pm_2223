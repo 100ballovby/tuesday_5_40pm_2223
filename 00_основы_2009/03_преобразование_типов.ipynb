{
 "cells": [
  {
   "cell_type": "markdown",
   "metadata": {
    "pycharm": {
     "name": "#%% md\n"
    }
   },
   "source": [
    "# Приведение типов\n",
    "\n",
    "<p>Приведение типов - это изменение типа данных переменной. Например: если в переменной сначала хранился тип данных <code>str</code>, но значение переменной нужно посчитать, вы можете привести тип данных этой переменной к <code>int</code>. То есть сделать ее целым числом.</p>\n",
    "\n",
    "<p>Существует несколько функций, которые могут менять типы данных переменной.</p>\n",
    "\n",
    "<ul>\n",
    "    <li><code><b>int(<span style=\"color: red;\">x</span>)</b></code> - преобразует <span style=\"color: red;\">x</span> в тип данных <code>int</code>.</li>\n",
    "    <li><code><b>float(<span style=\"color: red;\">x</span>)</b></code> - преобразует <span style=\"color: red;\">x</span> в тип данных <code>float</code>.</li>\n",
    "    <li><code><b>bool(<span style=\"color: red;\">x</span>)</b></code> - преобразует <span style=\"color: red;\">x</span> в тип данных <code>bool</code>.</li>\n",
    "    <li><code><b>str(<span style=\"color: red;\">x</span>)</b></code> - преобразует <span style=\"color: red;\">x</span> в тип данных <code>str</code>.</li>\n",
    "</ul>\n",
    "\n",
    "\n",
    "<p>Все эти функции всегда будут преобразовывать данные, которые вы им отдаете, но есть несколько моментов.</p>"
   ]
  },
  {
   "cell_type": "code",
   "execution_count": 1,
   "metadata": {
    "pycharm": {
     "name": "#%%\n"
    }
   },
   "outputs": [],
   "source": [
    "a = 'five'  # str\n",
    "b = '2'  # str\n",
    "c = '6.2'  # str\n",
    "d = 5  # int\n",
    "e = 1.75  # float"
   ]
  },
  {
   "cell_type": "markdown",
   "metadata": {
    "pycharm": {
     "name": "#%% md\n"
    }
   },
   "source": [
    "# Функция <code>int</code>\n",
    "\n",
    "<p>Больше всего проблем вам доставит именно эта функция, потому что некоторые преобразования она выполнить не может. Например:</p>"
   ]
  },
  {
   "cell_type": "code",
   "execution_count": 3,
   "metadata": {
    "pycharm": {
     "name": "#%%\n"
    }
   },
   "outputs": [
    {
     "ename": "ValueError",
     "evalue": "invalid literal for int() with base 10: 'five'",
     "output_type": "error",
     "traceback": [
      "\u001b[0;31m---------------------------------------------------------------------------\u001b[0m",
      "\u001b[0;31mValueError\u001b[0m                                Traceback (most recent call last)",
      "\u001b[0;32m/var/folders/kg/wys5qw45109bn_kq6647wwzw0000gn/T/ipykernel_1694/818589083.py\u001b[0m in \u001b[0;36m<module>\u001b[0;34m\u001b[0m\n\u001b[0;32m----> 1\u001b[0;31m \u001b[0mprint\u001b[0m\u001b[0;34m(\u001b[0m\u001b[0mint\u001b[0m\u001b[0;34m(\u001b[0m\u001b[0ma\u001b[0m\u001b[0;34m)\u001b[0m\u001b[0;34m)\u001b[0m\u001b[0;34m\u001b[0m\u001b[0;34m\u001b[0m\u001b[0m\n\u001b[0m",
      "\u001b[0;31mValueError\u001b[0m: invalid literal for int() with base 10: 'five'"
     ]
    }
   ],
   "source": [
    "print(int(a))"
   ]
  },
  {
   "cell_type": "markdown",
   "metadata": {
    "pycharm": {
     "name": "#%% md\n"
    }
   },
   "source": [
    "<p>Ошибка возникает потому что только вы знаете, что five - это 5, но компьютеру это неизвестно, поэтому такого рода строки она преоьразовать не сможет.</p>"
   ]
  },
  {
   "cell_type": "code",
   "execution_count": 4,
   "metadata": {
    "pycharm": {
     "name": "#%%\n"
    }
   },
   "outputs": [
    {
     "name": "stdout",
     "output_type": "stream",
     "text": [
      "2\n"
     ]
    }
   ],
   "source": [
    "print(int(b))"
   ]
  },
  {
   "cell_type": "markdown",
   "metadata": {
    "pycharm": {
     "name": "#%% md\n"
    }
   },
   "source": [
    "<p>Так как значение, написанное в кавычках является как бы числом, функция способна его привести.</p>"
   ]
  },
  {
   "cell_type": "code",
   "execution_count": 5,
   "metadata": {
    "pycharm": {
     "name": "#%%\n"
    }
   },
   "outputs": [
    {
     "ename": "ValueError",
     "evalue": "invalid literal for int() with base 10: '6.2'",
     "output_type": "error",
     "traceback": [
      "\u001b[0;31m---------------------------------------------------------------------------\u001b[0m",
      "\u001b[0;31mValueError\u001b[0m                                Traceback (most recent call last)",
      "\u001b[0;32m/var/folders/kg/wys5qw45109bn_kq6647wwzw0000gn/T/ipykernel_1694/2610873329.py\u001b[0m in \u001b[0;36m<module>\u001b[0;34m\u001b[0m\n\u001b[0;32m----> 1\u001b[0;31m \u001b[0mprint\u001b[0m\u001b[0;34m(\u001b[0m\u001b[0mint\u001b[0m\u001b[0;34m(\u001b[0m\u001b[0mc\u001b[0m\u001b[0;34m)\u001b[0m\u001b[0;34m)\u001b[0m\u001b[0;34m\u001b[0m\u001b[0;34m\u001b[0m\u001b[0m\n\u001b[0m",
      "\u001b[0;31mValueError\u001b[0m: invalid literal for int() with base 10: '6.2'"
     ]
    }
   ],
   "source": [
    "print(int(c))"
   ]
  },
  {
   "cell_type": "markdown",
   "metadata": {
    "pycharm": {
     "name": "#%% md\n"
    }
   },
   "source": [
    "<p>Ошибка возникает потому что в целых числах не бывает точек. Точка в данном случае расценивается функцией как строчный символ. Фактически в случае с переменной <b>c</b> вы пытаетесь преобразовать строку в число.</p>"
   ]
  },
  {
   "cell_type": "code",
   "execution_count": 6,
   "metadata": {
    "pycharm": {
     "name": "#%%\n"
    }
   },
   "outputs": [
    {
     "name": "stdout",
     "output_type": "stream",
     "text": [
      "1\n"
     ]
    }
   ],
   "source": [
    "print(int(e))"
   ]
  },
  {
   "cell_type": "markdown",
   "metadata": {
    "pycharm": {
     "name": "#%% md\n"
    }
   },
   "source": [
    "<p>Точка будет считаться строчной только в том случае, если число написано в кавычках. В математике вы любую десятичную дробь можете сделать целым числом, в программировании так же работает. <b>Функция <code>int()</code></b> НИЧЕГО не округляет. Она просто убирает дробную часть.</p>"
   ]
  },
  {
   "cell_type": "code",
   "execution_count": null,
   "metadata": {
    "pycharm": {
     "name": "#%%\n"
    }
   },
   "outputs": [],
   "source": [
    "a = 'five'  # str\n",
    "b = '2'  # str\n",
    "c = '6.2'  # str\n",
    "d = 5  # int\n",
    "e = 1.75  # float"
   ]
  },
  {
   "cell_type": "markdown",
   "metadata": {
    "pycharm": {
     "name": "#%% md\n"
    }
   },
   "source": [
    "# Функция <code>float</code>"
   ]
  },
  {
   "cell_type": "code",
   "execution_count": 7,
   "metadata": {
    "pycharm": {
     "name": "#%%\n"
    }
   },
   "outputs": [
    {
     "name": "stdout",
     "output_type": "stream",
     "text": [
      "2.0\n",
      "6.2\n",
      "5.0\n"
     ]
    }
   ],
   "source": [
    "print(float(b))\n",
    "print(float(c))\n",
    "print(float(d))"
   ]
  },
  {
   "cell_type": "markdown",
   "metadata": {
    "pycharm": {
     "name": "#%% md\n"
    }
   },
   "source": [
    "<p>Переменная <b>c</b> фактически является десятичной дробью, просто ее написали в кавычках. Функция <code>int</code> это приведение выполнить не может из-за точки, но <code>float</code> знает, что в десятичных дробях есть точка и не расценивает ее как строчный элемент.</p>\n",
    "\n",
    "<p>Есть хитрость по переводу переменной <b>c</b> в целое число, для этого нужно совместить две функции:</p>"
   ]
  },
  {
   "cell_type": "code",
   "execution_count": 8,
   "metadata": {
    "pycharm": {
     "name": "#%%\n"
    }
   },
   "outputs": [
    {
     "name": "stdout",
     "output_type": "stream",
     "text": [
      "6\n"
     ]
    }
   ],
   "source": [
    "print(int(float(c)))"
   ]
  },
  {
   "cell_type": "markdown",
   "metadata": {
    "pycharm": {
     "name": "#%% md\n"
    }
   },
   "source": [
    "# Функция <code>bool</code>\n",
    "\n",
    "<p>Она преобразовывает все к логическим высказываниям - True/False</p>"
   ]
  },
  {
   "cell_type": "code",
   "execution_count": 9,
   "metadata": {
    "pycharm": {
     "name": "#%%\n"
    }
   },
   "outputs": [
    {
     "name": "stdout",
     "output_type": "stream",
     "text": [
      "True\n",
      "False\n"
     ]
    }
   ],
   "source": [
    "a = 1\n",
    "b = 0\n",
    "\n",
    "print(bool(a))\n",
    "print(bool(b))"
   ]
  },
  {
   "cell_type": "markdown",
   "metadata": {
    "pycharm": {
     "name": "#%% md\n"
    }
   },
   "source": [
    "<p>Что будет, если преобразовать следующие числа в bool?</p>"
   ]
  },
  {
   "cell_type": "code",
   "execution_count": 10,
   "metadata": {
    "pycharm": {
     "name": "#%%\n"
    }
   },
   "outputs": [
    {
     "name": "stdout",
     "output_type": "stream",
     "text": [
      "True\n",
      "True\n"
     ]
    }
   ],
   "source": [
    "c = 78\n",
    "d = -9\n",
    "\n",
    "print(bool(c))\n",
    "print(bool(d))"
   ]
  },
  {
   "cell_type": "markdown",
   "metadata": {
    "pycharm": {
     "name": "#%% md\n"
    }
   },
   "source": [
    "<p><code>bool()</code> отдает 0 только в том случае, если вы дадите ей на преобразование <code>0</code>, <code>None</code>, <code>''</code> или пустой массив.</p>"
   ]
  },
  {
   "cell_type": "code",
   "execution_count": 11,
   "metadata": {
    "pycharm": {
     "name": "#%%\n"
    }
   },
   "outputs": [
    {
     "name": "stdout",
     "output_type": "stream",
     "text": [
      "True\n",
      "False\n"
     ]
    }
   ],
   "source": [
    "print(bool(' '))  # True\n",
    "print(bool(''))  # False"
   ]
  },
  {
   "cell_type": "markdown",
   "metadata": {
    "pycharm": {
     "name": "#%% md\n"
    }
   },
   "source": [
    "# Функция <code>str</code>\n",
    "\n",
    "<p>В строчный тип данных можно привести абсолютно любое значение вне зависимости, что оно из себя представляет.</p>\n",
    "\n",
    "<p>Есть имбалансная функция, которая нивелирует все недостатки функций, написанных выше.</p>\n",
    "\n",
    "# Функция <code>eval</code>\n",
    "\n",
    "<p>Она получает в качестве аргумента какое-то значение. И затем это значение она способна преобразовать <b>В ЛЮБОЙ ТИП ДАННЫХ, КРОМЕ СТРОКИ</b>. Строчки эта штука не воспринимает ни в каком виде.</p>"
   ]
  },
  {
   "cell_type": "code",
   "execution_count": 12,
   "metadata": {
    "pycharm": {
     "name": "#%%\n"
    }
   },
   "outputs": [
    {
     "name": "stdout",
     "output_type": "stream",
     "text": [
      "2\n",
      "6.2\n",
      "True\n",
      "None\n"
     ]
    }
   ],
   "source": [
    "b = '2'  # str\n",
    "c = '6.2'  # str\n",
    "d = 'True'  # str\n",
    "e = 'None'  # str\n",
    "\n",
    "print(eval(b))\n",
    "print(eval(c))\n",
    "print(eval(d))\n",
    "print(eval(e))"
   ]
  },
  {
   "cell_type": "markdown",
   "metadata": {
    "pycharm": {
     "name": "#%% md\n"
    }
   },
   "source": [
    "<p>В отличие от остальных функций <code>eval()</code> понимает математические выражения.</p>"
   ]
  },
  {
   "cell_type": "code",
   "execution_count": 13,
   "metadata": {
    "pycharm": {
     "name": "#%%\n"
    }
   },
   "outputs": [
    {
     "name": "stdout",
     "output_type": "stream",
     "text": [
      "Введи математическое выражение: 2 + 7 ** 3 / 12 * 5\n"
     ]
    },
    {
     "ename": "ValueError",
     "evalue": "invalid literal for int() with base 10: '2 + 7 ** 3 / 12 * 5'",
     "output_type": "error",
     "traceback": [
      "\u001b[0;31m---------------------------------------------------------------------------\u001b[0m",
      "\u001b[0;31mValueError\u001b[0m                                Traceback (most recent call last)",
      "\u001b[0;32m/var/folders/kg/wys5qw45109bn_kq6647wwzw0000gn/T/ipykernel_1694/3100181925.py\u001b[0m in \u001b[0;36m<module>\u001b[0;34m\u001b[0m\n\u001b[0;32m----> 1\u001b[0;31m \u001b[0mmath1\u001b[0m \u001b[0;34m=\u001b[0m \u001b[0mint\u001b[0m\u001b[0;34m(\u001b[0m\u001b[0minput\u001b[0m\u001b[0;34m(\u001b[0m\u001b[0;34m'Введи математическое выражение: '\u001b[0m\u001b[0;34m)\u001b[0m\u001b[0;34m)\u001b[0m\u001b[0;34m\u001b[0m\u001b[0;34m\u001b[0m\u001b[0m\n\u001b[0m",
      "\u001b[0;31mValueError\u001b[0m: invalid literal for int() with base 10: '2 + 7 ** 3 / 12 * 5'"
     ]
    }
   ],
   "source": [
    "math1 = int(input('Введи математическое выражение: '))"
   ]
  },
  {
   "cell_type": "code",
   "execution_count": 14,
   "metadata": {
    "pycharm": {
     "name": "#%%\n"
    }
   },
   "outputs": [
    {
     "name": "stdout",
     "output_type": "stream",
     "text": [
      "Введи математическое выражение: 2 + 7 ** 3 / 12 * 5\n",
      "144.91666666666666\n"
     ]
    }
   ],
   "source": [
    "math2 = eval(input('Введи математическое выражение: '))\n",
    "print(math2)"
   ]
  },
  {
   "cell_type": "markdown",
   "metadata": {
    "pycharm": {
     "name": "#%% md\n"
    }
   },
   "source": [
    "<p>Пробелы тоже воспринимаются.</p>"
   ]
  }
 ],
 "metadata": {
  "kernelspec": {
   "display_name": "Python 3 (ipykernel)",
   "language": "python",
   "name": "python3"
  },
  "language_info": {
   "codemirror_mode": {
    "name": "ipython",
    "version": 3
   },
   "file_extension": ".py",
   "mimetype": "text/x-python",
   "name": "python",
   "nbconvert_exporter": "python",
   "pygments_lexer": "ipython3",
   "version": "3.9.4"
  }
 },
 "nbformat": 4,
 "nbformat_minor": 1
}
