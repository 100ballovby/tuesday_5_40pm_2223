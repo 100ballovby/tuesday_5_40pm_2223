{
 "cells": [
  {
   "cell_type": "markdown",
   "metadata": {
    "collapsed": true,
    "pycharm": {
     "is_executing": true
    }
   },
   "source": [
    "# Лабушка №3. Функции\n",
    "\n",
    "<p style=\"font-size: 18px;\">Рассмотрим применение функций на практических примерах.</p>\n",
    "\n",
    "<p style=\"font-size: 18px;\"><b>Задача 1.</b> Факториал. Факториалом числа n называется произведение чисел от 1 до n. Необходимо написать функцией вычисление факториала. Учитывайте, что <code>0! = 1</code> и <code>1! = 1</code>.</p>"
   ]
  },
  {
   "cell_type": "code",
   "execution_count": 9,
   "metadata": {},
   "outputs": [
    {
     "name": "stdout",
     "output_type": "stream",
     "text": [
      "Введите число: 1\n",
      "1\n"
     ]
    }
   ],
   "source": [
    "def factorial(n: int) -> int:\n",
    "    res = 1\n",
    "    for i in range(1, n + 1):  # 1 2 3 4 5...n \n",
    "        res *= i\n",
    "    return res\n",
    "\n",
    "number = int(input('Введите число: '))\n",
    "print(factorial(number))"
   ]
  },
  {
   "cell_type": "markdown",
   "metadata": {},
   "source": [
    "<p style=\"font-size: 18px;\">Есть возможность написать функцию вычисления факториала через <code>while</code>.</p>\n",
    "<p style=\"font-size: 18px;\">Решение работает, но его суть не совсем логична, потому что фактически в функции происходит все то же самое. Есть переменная <code>i</code>, которая увеличивается до значения <code>n</code> на единицу."
   ]
  },
  {
   "cell_type": "code",
   "execution_count": 11,
   "metadata": {},
   "outputs": [
    {
     "name": "stdout",
     "output_type": "stream",
     "text": [
      "Введите число: 6\n",
      "720\n"
     ]
    }
   ],
   "source": [
    "def factorial_while(n: int) -> int:\n",
    "    res = 1\n",
    "    i = 1\n",
    "    while i <= n:  # 1 2 3 4 5...n \n",
    "        res *= i\n",
    "        i += 1\n",
    "    return res\n",
    "\n",
    "number = int(input('Введите число: '))\n",
    "print(factorial_while(number))"
   ]
  },
  {
   "cell_type": "markdown",
   "metadata": {},
   "source": [
    "<p style=\"font-size: 18px;\">В программировании есть понятие рекурсивной функции. Рекурсия - это когда функция вызывает саму себя, обновляя значение аргумента. Циклы в таких функциях не нужны, потому что критерии повторения описываются при помощи условий, записанных в функции. </p>\n",
    "\n",
    "<p style=\"font-size: 18px;\">Факториал 3 можно представить как <code>3! = 1 * 2 * 3</code>, а можно <code>3! = 3 * 2 * 1</code>.</p>"
   ]
  },
  {
   "cell_type": "code",
   "execution_count": 12,
   "metadata": {},
   "outputs": [
    {
     "name": "stdout",
     "output_type": "stream",
     "text": [
      "Введите число: 6\n",
      "720\n"
     ]
    }
   ],
   "source": [
    "def factorial_recursive(n):\n",
    "    if n <= 1:  # базовый случай (когда выйти из функции)\n",
    "        return 1 \n",
    "    else:  # рекурсивный случай (аналог цикла)\n",
    "        return n * factorial_recursive(n - 1)\n",
    "    \n",
    "number = int(input('Введите число: '))\n",
    "print(factorial_recursive(number))"
   ]
  },
  {
   "cell_type": "markdown",
   "metadata": {},
   "source": [
    "<p style=\"font-size: 18px;\"><b>Задача 2.</b> Вычислить площадь боковой поверхности цилиндра.<br>Формула: <code>S = 2 * π * r * h</code>, где <code>r</code> - радиус окружности, <code>h</code> - высота цилиндра. Напишите функцию, которая будет считать эти значения.</p>"
   ]
  },
  {
   "cell_type": "code",
   "execution_count": 15,
   "metadata": {},
   "outputs": [
    {
     "name": "stdout",
     "output_type": "stream",
     "text": [
      "3.141592653589793\n",
      "Введите радиус: 6\n",
      "Введите высоту: 9\n",
      "Площадь боковой поверхности: 339.29201 см^2\n"
     ]
    }
   ],
   "source": [
    "from math import pi \n",
    "\n",
    "def cylinder(r: int, h: int) -> float:\n",
    "    s = 2 * pi * r * h\n",
    "    return s \n",
    "    \n",
    "print(pi)\n",
    "n1 = int(input('Введите радиус: '))\n",
    "n2 = int(input('Введите высоту: '))\n",
    "cyl = cylinder(n1, n2)\n",
    "print(f'Площадь боковой поверхности: {round(cyl, 5)} см^2')"
   ]
  },
  {
   "cell_type": "markdown",
   "metadata": {},
   "source": [
    "<p style=\"font-size: 18px;\"><b>Задача 3.</b> Даны 4 целых числа <code>x<sub>1</sub></code>, <code>x<sub>2</sub></code>, <code>y<sub>1</sub></code>, <code>y<sub>2</sub></code>. Напишите <b><u>функцию</u></b>, которая вычисляет расстояние между точкой (x<sub>1</sub>, y<sub>1</sub>) и (x<sub>2</sub>, y<sub>2</sub>).</p>"
   ]
  },
  {
   "cell_type": "code",
   "execution_count": 19,
   "metadata": {},
   "outputs": [
    {
     "name": "stdout",
     "output_type": "stream",
     "text": [
      "x1: 0.1\n",
      "x2: 0.1\n",
      "y1: 0.2\n",
      "y2: 0.2\n",
      "0.0\n"
     ]
    }
   ],
   "source": [
    "from math import sqrt  # для вычисления квадратного корня \n",
    "\n",
    "def distance(x1, y1, x2, y2):\n",
    "    res = sqrt((x1 - x2) ** 2 + (y1 - y2) ** 2)\n",
    "    return res \n",
    "\n",
    "\n",
    "x1 = float(input('x1: '))\n",
    "x2 = float(input('x2: '))\n",
    "y1 = float(input('y1: '))\n",
    "y2 = float(input('y2: '))\n",
    "print(distance(x1, y1, x2, y2))\n"
   ]
  },
  {
   "cell_type": "code",
   "execution_count": null,
   "metadata": {},
   "outputs": [],
   "source": []
  },
  {
   "cell_type": "code",
   "execution_count": null,
   "metadata": {},
   "outputs": [],
   "source": []
  }
 ],
 "metadata": {
  "kernelspec": {
   "display_name": "Python 3 (ipykernel)",
   "language": "python",
   "name": "python3"
  },
  "language_info": {
   "codemirror_mode": {
    "name": "ipython",
    "version": 3
   },
   "file_extension": ".py",
   "mimetype": "text/x-python",
   "name": "python",
   "nbconvert_exporter": "python",
   "pygments_lexer": "ipython3",
   "version": "3.9.4"
  }
 },
 "nbformat": 4,
 "nbformat_minor": 1
}
