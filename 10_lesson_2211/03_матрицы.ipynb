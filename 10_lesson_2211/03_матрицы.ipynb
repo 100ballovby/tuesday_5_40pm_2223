{
 "cells": [
  {
   "cell_type": "markdown",
   "metadata": {
    "collapsed": true
   },
   "source": [
    "# Двумерные массивы\n",
    "\n",
    "<p>Наполнение случайными числами:</p>\n"
   ]
  },
  {
   "cell_type": "code",
   "execution_count": 55,
   "metadata": {},
   "outputs": [],
   "source": [
    "import random as r\n",
    "\n",
    "matrix = []\n",
    "n = m = 4  # присваивание одного значения двум переменным\n",
    "for i in range(n):  # количество строк\n",
    "    line = []  # строка матрицы\n",
    "    for j in range(m):  # количество столбцов\n",
    "        line.append(r.randint(-3, 10))\n",
    "    matrix.append(line)"
   ]
  },
  {
   "cell_type": "markdown",
   "metadata": {},
   "source": [
    "<p>Вывод элементов матрицы</p>"
   ]
  },
  {
   "cell_type": "code",
   "execution_count": 56,
   "metadata": {},
   "outputs": [
    {
     "name": "stdout",
     "output_type": "stream",
     "text": [
      "8\t-1\t1\t10\t\n",
      "5\t4\t-3\t0\t\n",
      "-1\t-2\t7\t10\t\n",
      "-1\t10\t3\t-3\t\n"
     ]
    }
   ],
   "source": [
    "for line in range(n):\n",
    "    for col in range(m):\n",
    "        print(matrix[line][col], end='\\t')  # разделитель элементов - символ tab (4 пробела)\n",
    "    print()  # переношу вывод на новую строку "
   ]
  },
  {
   "cell_type": "markdown",
   "metadata": {},
   "source": [
    "<p>Чтобы перебрать столбцы, просто поменяем местами переменные в выводе. То есть сначала обращаемся к элементу, а уже потом к строке.</p>"
   ]
  },
  {
   "cell_type": "code",
   "execution_count": 57,
   "metadata": {},
   "outputs": [
    {
     "name": "stdout",
     "output_type": "stream",
     "text": [
      "8\t5\t-1\t-1\t\n",
      "-1\t4\t-2\t10\t\n",
      "1\t-3\t7\t3\t\n",
      "10\t0\t10\t-3\t\n"
     ]
    }
   ],
   "source": [
    "for line in range(n):\n",
    "    for col in range(m):\n",
    "        print(matrix[col][line], end='\\t')\n",
    "    print()"
   ]
  },
  {
   "cell_type": "markdown",
   "metadata": {},
   "source": [
    "# Задача 1. Посчитать столбцы с нулями\n",
    "<p>Необходимо определить количество столбцов матрицы, которые содержат хотя бы один нулевой элемент.</p>"
   ]
  },
  {
   "cell_type": "code",
   "execution_count": 58,
   "metadata": {},
   "outputs": [
    {
     "name": "stdout",
     "output_type": "stream",
     "text": [
      "Количество столбцов с нулями: 1\n"
     ]
    }
   ],
   "source": [
    "count = 0\n",
    "for line in range(n):\n",
    "    for col in range(m):\n",
    "        if matrix[col][line] == 0:\n",
    "            count += 1\n",
    "            break  # если в столбце есть 0, дальше его проверять уже не нужно\n",
    "    \n",
    "print('Количество столбцов с нулями:', count)"
   ]
  },
  {
   "cell_type": "markdown",
   "metadata": {},
   "source": [
    "# Задача 2. Посчитать сумму элементов главной диагонали матрицы и произведение элементов побочной диагонали матрицы\n",
    "\n",
    "<img src=\"diag_matrix.png\">\n",
    "\n",
    "<p>Главная диагональ квадратной матрицы - это когда номер столбца совпадает с номером строки матрицы. Вложенный цикл при этом не нужен, потому что в переменной <code>i</code> будут перебиратьтся индексы строк, соответственно для обращения к элементам главной диагонали, мы будем использовать синтаксис <code>[i][i]</code>.</p>"
   ]
  },
  {
   "cell_type": "code",
   "execution_count": 59,
   "metadata": {},
   "outputs": [
    {
     "name": "stdout",
     "output_type": "stream",
     "text": [
      "Сумма элементов главной диагонали матрицы: 16.\n",
      "Произведение элементов побочной диагонали матрицы: -60.\n"
     ]
    }
   ],
   "source": [
    "summ = 0\n",
    "mult = 1\n",
    "for i in range(n):\n",
    "    summ += matrix[i][i]\n",
    "    mult *= matrix[i][n - i - 1]\n",
    "    \n",
    "print(f'Сумма элементов главной диагонали матрицы: {summ}.')\n",
    "print(f'Произведение элементов побочной диагонали матрицы: {mult}.')"
   ]
  },
  {
   "cell_type": "markdown",
   "metadata": {},
   "source": [
    "## Задача 3.\n",
    "<p style=\"font-size: 18px;\">Необходимо найти первую строчку матрицы, в которой все элементы положительные и посчитать сумму этих элементов. Уменьшить все элементы матрицы на значение этой суммы.</p>"
   ]
  },
  {
   "cell_type": "code",
   "execution_count": 60,
   "metadata": {},
   "outputs": [
    {
     "name": "stdout",
     "output_type": "stream",
     "text": [
      "Строка, где все элементы больше 0: 0\n",
      "-10, -19, -17, -8, \n",
      "-13, -14, -21, -18, \n",
      "-19, -20, -11, -8, \n",
      "-19, -8, -15, -21, \n"
     ]
    }
   ],
   "source": [
    "i_line = None # по умолчанию считаем, что строки с положительными элементами не существует \n",
    "\n",
    "for i in range(n):  # перебираю строки \n",
    "    for j in range(m):  # перебираю элементы \n",
    "        if matrix[i][j] <= 0:  # если элемент 0 или отрицательный \n",
    "            break  # не смотрю строку дальше \n",
    "        else:  # если все элементы строки НЕ отрицательные \n",
    "            i_line = i   # записываю номер строки в переменную \n",
    "    if i_line != None:  # если найдена строка со всеми положительными элементами (вместо None там номер строки)\n",
    "        break  # останавливаю поиск по другим строчкам матрицы \n",
    "\n",
    "print(f'Строка, где все элементы больше 0: {i_line}')\n",
    "summ = sum(matrix[i_line])\n",
    "\n",
    "for i in range(n):\n",
    "    for j in range(m):\n",
    "        matrix[i][j] -= summ\n",
    "        print(matrix[i][j], end=', ')\n",
    "    print()"
   ]
  },
  {
   "cell_type": "markdown",
   "metadata": {},
   "source": [
    "# Задача 4. Посчитать сумму элементов главной диагонали матрицы и произведение элементов побочной диагонали матрицы\n",
    "\n",
    "<img src=\"diag_matrix.png\">\n",
    "\n",
    "<p>Главная диагональ квадратной матрицы - это когда номер столбца совпадает с номером строки матрицы. Вложенный цикл при этом не нужен, потому что в переменной <code>i</code> будут перебиратьтся индексы строк, соответственно для обращения к элементам главной диагонали, мы будем использовать синтаксис <code>[i][i]</code>.</p>"
   ]
  },
  {
   "cell_type": "code",
   "execution_count": 61,
   "metadata": {},
   "outputs": [
    {
     "name": "stdout",
     "output_type": "stream",
     "text": [
      "-10\t2\t2\t-1\t-7\t-3\t-4\t-6\t\n",
      "4\t1\t-6\t9\t5\t-2\t-2\t1\t\n",
      "-4\t-10\t-4\t-5\t-4\t-4\t-2\t-3\t\n",
      "3\t0\t-4\t10\t5\t-10\t-2\t-6\t\n",
      "-9\t-7\t7\t-1\t9\t1\t-7\t6\t\n",
      "Сумма элементов главной диагонали матрицы: 6.\n",
      "Произведение элементов побочной диагонали матрицы: 0.\n"
     ]
    }
   ],
   "source": [
    "import random as r\n",
    "\n",
    "matrix = []\n",
    "n, m = 5, 8  # присваивание одного значения двум переменным\n",
    "for i in range(n):  # количество строк\n",
    "    line = []  # строка матрицы\n",
    "    for j in range(m):  # количество столбцов\n",
    "        line.append(r.randint(-10, 10))\n",
    "    matrix.append(line)\n",
    "    \n",
    "    \n",
    "for line in range(n):\n",
    "    for col in range(m):\n",
    "        print(matrix[line][col], end='\\t')  # разделитель элементов - символ tab (4 пробела)\n",
    "    print()  # переношу вывод на новую строку \n",
    "    \n",
    "\n",
    "summ = 0\n",
    "mult = 1\n",
    "for i in range(n):\n",
    "    summ += matrix[i][i]\n",
    "    mult *= matrix[i][n - i - 1]\n",
    "    \n",
    "print(f'Сумма элементов главной диагонали матрицы: {summ}.')\n",
    "print(f'Произведение элементов побочной диагонали матрицы: {mult}.')"
   ]
  },
  {
   "cell_type": "code",
   "execution_count": 61,
   "metadata": {},
   "outputs": [],
   "source": []
  }
 ],
 "metadata": {
  "kernelspec": {
   "display_name": "Python 3 (ipykernel)",
   "language": "python",
   "name": "python3"
  },
  "language_info": {
   "codemirror_mode": {
    "name": "ipython",
    "version": 3
   },
   "file_extension": ".py",
   "mimetype": "text/x-python",
   "name": "python",
   "nbconvert_exporter": "python",
   "pygments_lexer": "ipython3",
   "version": "3.9.4"
  }
 },
 "nbformat": 4,
 "nbformat_minor": 1
}
