{
 "cells": [
  {
   "cell_type": "markdown",
   "metadata": {
    "collapsed": true
   },
   "source": [
    "# 💗ДЗ💗. Разбор\n",
    "\n",
    "## Задача 1.\n",
    "<p srtyle=\"font-size: 18px;\">Напишите программу, которая получает строку от пользователя и пишет новую строку, состоящую из первых 2 и последних 2 символов заданной строки.</p>"
   ]
  },
  {
   "cell_type": "code",
   "execution_count": 2,
   "metadata": {},
   "outputs": [
    {
     "name": "stdout",
     "output_type": "stream",
     "text": [
      "Введи строку: строчка\n",
      "стка\n"
     ]
    }
   ],
   "source": [
    "phrase = input('Введи строку: ')\n",
    "\n",
    "print(phrase[:2] + phrase[-2:])"
   ]
  },
  {
   "cell_type": "markdown",
   "metadata": {},
   "source": [
    "## Задача 2.\n",
    "\n",
    "<p srtyle=\"font-size: 18px;\">Напишите программу, которая получает строку от пользователя и создает новую строку, в которой все вхождения ее первого символа будут изменены на знак доллара, кроме самого первого символа. То есть: вам вводят “refubrished”, программа выводит “refub$ished”. Вам понядобятся срезы.</p>"
   ]
  },
  {
   "cell_type": "code",
   "execution_count": 4,
   "metadata": {},
   "outputs": [
    {
     "name": "stdout",
     "output_type": "stream",
     "text": [
      "Введи строчку: refurbished\n",
      "refu$bished\n"
     ]
    }
   ],
   "source": [
    "phrase_1 = input('Введи строчку: ')\n",
    "\n",
    "first_symbol = phrase_1[0]  # забираю первый символ из строки \n",
    "phrase_1 = phrase_1[1:]  # сохраняю строку как новую, но без первой буквы\n",
    "changed = phrase_1.replace(first_symbol, '$')  # заменяю все вхождения первого символа на $ \n",
    "\n",
    "print(first_symbol + changed)\n"
   ]
  },
  {
   "cell_type": "markdown",
   "metadata": {},
   "source": [
    "## Задача 3*.\n",
    "<p srtyle=\"font-size: 18px;\">Напишите программу, которая получает две строки, меняет местами первые два символа каждой из них, выводит новую строку, в которой объединяются введенные строки и разделяются пробелом. То есть:</p>\n",
    "<p srtyle=\"font-size: 18px;\">Вам вводят: <code>'abc'</code>, <code>'xyz'</code><br>\n",
    "    Вывести нужно: <code>'xyc abz'</code></p>"
   ]
  },
  {
   "cell_type": "code",
   "execution_count": 7,
   "metadata": {},
   "outputs": [
    {
     "name": "stdout",
     "output_type": "stream",
     "text": [
      "Введите строку: abc\n",
      "Введите строку: xyz\n",
      "xyc abz\n"
     ]
    }
   ],
   "source": [
    "a = input('Введите строку: ')\n",
    "b = input('Введите строку: ')\n",
    "\n",
    "a_two = a[:2]\n",
    "b_two = b[:2]\n",
    "\n",
    "a = a.replace(a_two, b_two)\n",
    "b = b.replace(b_two, a_two)\n",
    "print(a + ' ' + b)"
   ]
  },
  {
   "cell_type": "code",
   "execution_count": null,
   "metadata": {},
   "outputs": [],
   "source": []
  }
 ],
 "metadata": {
  "kernelspec": {
   "display_name": "Python 3 (ipykernel)",
   "language": "python",
   "name": "python3"
  },
  "language_info": {
   "codemirror_mode": {
    "name": "ipython",
    "version": 3
   },
   "file_extension": ".py",
   "mimetype": "text/x-python",
   "name": "python",
   "nbconvert_exporter": "python",
   "pygments_lexer": "ipython3",
   "version": "3.9.4"
  }
 },
 "nbformat": 4,
 "nbformat_minor": 1
}
