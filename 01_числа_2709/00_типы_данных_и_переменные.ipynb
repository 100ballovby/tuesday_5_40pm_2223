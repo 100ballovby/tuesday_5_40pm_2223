{
 "cells": [
  {
   "cell_type": "markdown",
   "metadata": {},
   "source": [
    "## Типы данных и переменные в Python\n",
    "\n",
    "<ol>\n",
    "    <li><code>None</code> - неопределенное значение</li>\n",
    "    <li><code>int</code> - integer, целое число</li>\n",
    "    <li><code>float</code> - floating point number - десятичные дроби</li>\n",
    "    <li><code>str</code> - строчки</li>\n",
    "    <li><code>bool</code> - логический</li>\n",
    "    <li><code>date</code> - дата</li>\n",
    "</ol>\n",
    "\n",
    "<p>Чтобы создать переменную, надо написать ее имя и присвоить ей значение.</p>\n",
    "\n",
    "### Правила названий имен переменных\n",
    "\n",
    "<ol>\n",
    "    <li>Называть понятными словами. Вместо <code>a = 5</code> <code>age = 5</code></li>\n",
    "    <li>Только английские символы</li>\n",
    "    <li>Можноо использовать цифры, но цифра не может стоять первой: <code>m1s</code>, но нельзя назвать <code style=\"color: red;\">1ms</code>.</li>\n",
    "    <li>Нельзя использовать <code>!@#$%^&*()-+=/.,</code>, можно только <code>_</code</li>\n",
    "    <li>Можно называть переменные несколькими словами, <b>НО НЕ ПИШИТЕ ТАМ СОЧИНЕНИЕ</b>, если нужно использовать несколько слов, то:\n",
    "    <ul>\n",
    "        <li><b>CamelCase</b> <code>myFavoriteGood</code> - каждое новое слово с большой буквы</li>\n",
    "        <li><b>snake_case</b> <code>my_first_file</code> - слова разделяются значками <code>_</code></li></ul>\n",
    "    </li>\n",
    "</ol>\n"
   ]
  },
  {
   "cell_type": "markdown",
   "metadata": {},
   "source": [
    "<h2>Работа с памятью</h2>\n",
    "\n",
    "<p><b>Переменная</b> - коробочка, в которой может находиться одно значение. У коробочки при этом должно быть имя.</p>\n",
    "\n",
    "<h2>Переменных в Python нет</h2>\n",
    "\n",
    "<p>В Python реализована ссылочная модель данных. Есть имена и есть объекты, которые с этими именами связаны.</p>\n",
    "\n",
    "<p>Чтобы создать переменную в С++, достаточно написать <code>int x;</code>. Создается переменная целочисленная. Если поставить значок <code>=</code> (присваивание), можно задать переменной значение. ВАЖНО: тип данных присваивается ПЕРЕМЕННОЙ.</p>\n",
    "\n",
    "<p>Чтобы создать переменную в Python, нужно написать ее имя и сразу же значение - <code>x = 5</code>. У имени типа данных нет. Тип данных есть только у того объекта, который на это имя ссылается.</p>"
   ]
  },
  {
   "cell_type": "code",
   "execution_count": 1,
   "metadata": {},
   "outputs": [],
   "source": [
    "x = 5 + 2"
   ]
  },
  {
   "cell_type": "markdown",
   "metadata": {},
   "source": [
    "<p>Чтобы вывести значение переменной, используем функцию <code>print()</code></p>"
   ]
  },
  {
   "cell_type": "code",
   "execution_count": 2,
   "metadata": {},
   "outputs": [
    {
     "name": "stdout",
     "output_type": "stream",
     "text": [
      "7\n"
     ]
    }
   ],
   "source": [
    "print(x)"
   ]
  },
  {
   "cell_type": "markdown",
   "metadata": {},
   "source": [
    "<p>Вы можете спросить \"х, а какого ты типа?\". Используем функцию <code>type()</code></p>"
   ]
  },
  {
   "cell_type": "code",
   "execution_count": 3,
   "metadata": {},
   "outputs": [
    {
     "name": "stdout",
     "output_type": "stream",
     "text": [
      "<class 'int'>\n"
     ]
    }
   ],
   "source": [
    "print(type(x))  # это не тип данных переменной, это тип данных 7"
   ]
  },
  {
   "cell_type": "markdown",
   "metadata": {},
   "source": [
    "<h2>Математические операции</h2>\n",
    "\n",
    "<p>Доступны все математические операции и операции сравнения. Но есть три оператора деления</p>\n",
    "\n",
    "<ul>\n",
    "    <li><code>/</code> - деление</li>\n",
    "    <li><code>//</code> - целочисленное деление</li>\n",
    "    <li><code>%</code> - остаток от деления</li>\n",
    "</ul>"
   ]
  },
  {
   "cell_type": "code",
   "execution_count": 4,
   "metadata": {},
   "outputs": [
    {
     "name": "stdout",
     "output_type": "stream",
     "text": [
      "3.3333333333333335\n",
      "3\n",
      "1\n"
     ]
    }
   ],
   "source": [
    "print(10 / 3)  # 3.333333\n",
    "print(10 // 3)  # 3 !!! без округления !!!\n",
    "print(10 % 3)  # 1"
   ]
  },
  {
   "cell_type": "markdown",
   "metadata": {},
   "source": [
    "<p>В большинстве ЯПов есть функция возведения в степень. Но в Python это оператор. <code>**</code></p>"
   ]
  },
  {
   "cell_type": "code",
   "execution_count": 5,
   "metadata": {},
   "outputs": [
    {
     "name": "stdout",
     "output_type": "stream",
     "text": [
      "8\n"
     ]
    }
   ],
   "source": [
    "print(2 ** 3)"
   ]
  },
  {
   "cell_type": "markdown",
   "metadata": {},
   "source": [
    "<h2>I/O - программы ввода вывода</h2>\n",
    "\n",
    "<p>Переменные никто и почти никогда не задает железно.<br>Это называется хардкод - <code>x = 5</code>. </p>\n",
    "\n",
    "<p>Чтобы реализовать ввод, используем функцию <code>input()</code></p>"
   ]
  },
  {
   "cell_type": "code",
   "execution_count": 6,
   "metadata": {},
   "outputs": [],
   "source": [
    "name = input('Как тебя зовут? ')"
   ]
  },
  {
   "cell_type": "code",
   "execution_count": 7,
   "metadata": {},
   "outputs": [
    {
     "name": "stdout",
     "output_type": "stream",
     "text": [
      "Привет, \n"
     ]
    }
   ],
   "source": [
    "print('Привет,', name)"
   ]
  }
 ],
 "metadata": {
  "kernelspec": {
   "display_name": "Python 3 (ipykernel)",
   "language": "python",
   "name": "python3"
  },
  "language_info": {
   "codemirror_mode": {
    "name": "ipython",
    "version": 3
   },
   "file_extension": ".py",
   "mimetype": "text/x-python",
   "name": "python",
   "nbconvert_exporter": "python",
   "pygments_lexer": "ipython3",
   "version": "3.9.4"
  }
 },
 "nbformat": 4,
 "nbformat_minor": 1
}
