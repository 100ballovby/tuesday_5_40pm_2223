{
 "cells": [
  {
   "cell_type": "markdown",
   "metadata": {},
   "source": [
    "# Приведение типов данных. Задачи\n",
    "\n",
    "## Задача 1. Сумма трех чисел\n",
    "\n",
    "<p style=\"font-size: 16px\">Напишите программу, которая считывает три числа и выводит их сумму. Каждое число записано в отдельной переменной.</p>"
   ]
  },
  {
   "cell_type": "code",
   "execution_count": 1,
   "metadata": {},
   "outputs": [
    {
     "name": "stdout",
     "output_type": "stream",
     "text": [
      "Введите число: 3\n",
      "Введите число: 4.5\n",
      "Введите число: 2\n",
      "9.5\n"
     ]
    }
   ],
   "source": [
    "a = eval(input('Введите число: '))\n",
    "b = eval(input('Введите число: '))\n",
    "c = eval(input('Введите число: '))\n",
    "\n",
    "print(a + b + c)"
   ]
  },
  {
   "cell_type": "markdown",
   "metadata": {},
   "source": [
    "<p style=\"font-size: 16px;\">Функция <code>eval()</code> в данном случае нужна для того, чтобы в переменную пользователь мог вписывать и целые числа, и десятичные дроби.</p>\n",
    "\n",
    "## Задача 2. Площадь прямоугольного треугольника\n",
    "\n",
    "<p style=\"font-size: 16px;\">Напишите программу, которая считывает длины двух катетов в прямоугольном треугольнике и выводит его площадь. Каждое число записано в отдельной переменной.</p>\n",
    "\n",
    "<p style=\"font-size: 16px;\">Формула нахождения площади: <code><b>1/2 * b * h</b></code></p>"
   ]
  },
  {
   "cell_type": "code",
   "execution_count": 3,
   "metadata": {},
   "outputs": [
    {
     "name": "stdout",
     "output_type": "stream",
     "text": [
      "Введите основание: 12\n",
      "Введите высоту: 4\n",
      "24.0\n"
     ]
    }
   ],
   "source": [
    "b = int(input('Введите основание: '))\n",
    "h = int(input('Введите высоту: '))\n",
    "\n",
    "print(0.5 * b * h)"
   ]
  },
  {
   "cell_type": "markdown",
   "metadata": {},
   "source": [
    "## Задача 3. Дележ яблок\n",
    "\n",
    "<p style=\"font-size: 16px\"><code>n</code> школьников делят <code>k</code> яблок поровну, неделящийся остаток остается в корзинке. Сколько яблок достанется каждому школьнику? Сколько яблок останется в корзинке? Программа получает на вход числа <code>n</code> и <code>k</code> и должна вывести искомое количество яблок (два числа).</p>"
   ]
  },
  {
   "cell_type": "code",
   "execution_count": 5,
   "metadata": {},
   "outputs": [
    {
     "name": "stdout",
     "output_type": "stream",
     "text": [
      "Школьники: 15\n",
      "Яблоки: 32\n",
      "2\n",
      "2\n"
     ]
    }
   ],
   "source": [
    "n = int(input('Школьники: '))\n",
    "k = int(input('Яблоки: '))\n",
    "\n",
    "print(k // n)\n",
    "print(k % n)"
   ]
  },
  {
   "cell_type": "markdown",
   "metadata": {},
   "source": [
    "## Задача 4. Следующее и предыдущее\n",
    "\n",
    "<p style=\"font-size: 18px;\">Напишите программу, которая считывает целое число и выводит текст:</p>\n",
    "\n",
    "<p style=\"font-size: 18px;\">Число <b>17</b></p>\n",
    "<ul>\n",
    "    <li>Следующее число: 18</li>\n",
    "    <li>Предыдущее число: 16</li>\n",
    "</ul>"
   ]
  },
  {
   "cell_type": "code",
   "execution_count": 8,
   "metadata": {},
   "outputs": [
    {
     "name": "stdout",
     "output_type": "stream",
     "text": [
      "Введите число:7\n",
      "Следующее 8\n",
      "Предыдущее 6\n"
     ]
    }
   ],
   "source": [
    "n = int(input('Введите число:'))\n",
    "print('Следующее ', n + 1, '\\n', 'Предыдущее ', n - 1, sep='')"
   ]
  },
  {
   "cell_type": "markdown",
   "metadata": {},
   "source": [
    "## Задача 5. Произведение цифр\n",
    "\n",
    "<p style=\"font-size: 18px\">Задано трёхзначное число <code><b>n</b></code>. Определить произведение его цифр.</p>"
   ]
  },
  {
   "cell_type": "code",
   "execution_count": null,
   "metadata": {},
   "outputs": [],
   "source": [
    "num = int(input('Введи трехзначное число: '))\n",
    "\n",
    "hundreds = num // 100  # разряд сотен\n",
    "tens = num % 100 // 10  # разряд десятков\n",
    "units = num % 10  # разряд единиц\n",
    "\n",
    "print(num, '=', hundreds, 'и', tens, 'и', units)\n",
    "print(num, '=', hundreds * tens * units)\n"
   ]
  },
  {
   "cell_type": "markdown",
   "metadata": {},
   "source": [
    "## Задача 6. Время\n",
    "<p style=\"font-size: 18px\">Пользователь вводит количество секунд <code><b>s</b></code>. Нужно перевести это значение в часы, минуты и секунды. Например: <code><b>s = 254</b></code><br>Часы: <b>0</b>, Минуты <b>4</b>, секунды <b>14</b>.</p>"
   ]
  },
  {
   "cell_type": "code",
   "execution_count": 11,
   "metadata": {},
   "outputs": [
    {
     "name": "stdout",
     "output_type": "stream",
     "text": [
      "Введите секунды: 7223\n",
      "2 часов 0 минут 23 секунд\n"
     ]
    }
   ],
   "source": [
    "s = int(input('Введите секунды: '))\n",
    "\n",
    "hours = s // 3600\n",
    "minutes = s % 3600 // 60\n",
    "seconds = s % 60\n",
    "\n",
    "print(hours, 'часов', minutes, 'минут', seconds, 'секунд')"
   ]
  },
  {
   "cell_type": "markdown",
   "metadata": {},
   "source": [
    "## Задача 7. Экскурсия\n",
    "\n",
    "<p style=\"font-size: 18px;\">Ученики 8-В класса на осенние каникулы решили поехать на экскурсию в столицу. Зная количество мальчиков <code>n</code> и девочек <code>m</code>, определить, сколько необходимо заказать комнат в отеле, в котором имеются комнаты на <code>k</code> мест каждая, при условии что мальчиков и девочек поселять вместе запрещено.</p>"
   ]
  },
  {
   "cell_type": "code",
   "execution_count": null,
   "metadata": {},
   "outputs": [],
   "source": []
  }
 ],
 "metadata": {
  "kernelspec": {
   "display_name": "Python 3 (ipykernel)",
   "language": "python",
   "name": "python3"
  },
  "language_info": {
   "codemirror_mode": {
    "name": "ipython",
    "version": 3
   },
   "file_extension": ".py",
   "mimetype": "text/x-python",
   "name": "python",
   "nbconvert_exporter": "python",
   "pygments_lexer": "ipython3",
   "version": "3.9.4"
  }
 },
 "nbformat": 4,
 "nbformat_minor": 1
}
