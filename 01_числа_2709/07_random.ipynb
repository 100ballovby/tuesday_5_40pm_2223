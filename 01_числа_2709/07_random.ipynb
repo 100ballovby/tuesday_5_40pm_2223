{
 "cells": [
  {
   "cell_type": "markdown",
   "metadata": {},
   "source": [
    "# Библиотека <code>random</code>\n",
    "\n",
    "<p style=\"font-size: 18px;\">Библиотека нужна для того, чтобы вы могли работать с псевдослучайностью в ваших программах. Псевдо - потому что настоящего генератора действительно случайных чисел не существует.</p>\n",
    "\n",
    "<p style=\"font-size: 18px;\">Чтобы начать работать с библиотекой <code>random</code> ее нужно импортировать в ваш файл. Для этого напишем: <code>import random as r</code></p>"
   ]
  },
  {
   "cell_type": "code",
   "execution_count": 1,
   "metadata": {},
   "outputs": [],
   "source": [
    "import random as r"
   ]
  },
  {
   "cell_type": "markdown",
   "metadata": {},
   "source": [
    "<ul style=\"font-size: 18px; line-height: 1.8\">\n",
    "    <li><b><code>randint(start, stop)</code></b> - генерирует случайное целое число в диапазоне чисел, которые передаются ей в скобках;</li>\n",
    "    <li><b><code>choice(sequence)</code></b> - достает случайное значение из последовательности. Последовательностью может быть строка, список, кортеж;</li>\n",
    "    <li><b><code>uniform(start, stop)</code></b> - генерирует случайную дробь в диапазоне чисел, которые передаются ей в скобках.</li>\n",
    "</ul>"
   ]
  },
  {
   "cell_type": "code",
   "execution_count": 2,
   "metadata": {},
   "outputs": [
    {
     "name": "stdout",
     "output_type": "stream",
     "text": [
      "91\n",
      "2.5042169209503875\n"
     ]
    }
   ],
   "source": [
    "num1 = r.randint(10, 99)\n",
    "num2 = r.uniform(2.5, 2.52)\n",
    "print(num1)\n",
    "print(num2)"
   ]
  },
  {
   "cell_type": "markdown",
   "metadata": {},
   "source": [
    "<p style=\"font-size: 18px;\">Если вы будете запускать код несколько раз, значения вы будете получать разные, потому что с каждым запуском будет генерироваться новое число.</p>\n",
    "\n",
    "## Решим задачу с применением библиотеки <code>random</code>\n",
    "\n",
    "<p style=\"font-size: 18px;\"><b>Задача 1:</b> нужно сгенерировать случайное четырехзначное число и найти сумму его цифр.</p>"
   ]
  },
  {
   "cell_type": "code",
   "execution_count": 2,
   "metadata": {},
   "outputs": [],
   "source": []
  }
 ],
 "metadata": {
  "kernelspec": {
   "display_name": "Python 3 (ipykernel)",
   "language": "python",
   "name": "python3"
  },
  "language_info": {
   "codemirror_mode": {
    "name": "ipython",
    "version": 3
   },
   "file_extension": ".py",
   "mimetype": "text/x-python",
   "name": "python",
   "nbconvert_exporter": "python",
   "pygments_lexer": "ipython3",
   "version": "3.9.4"
  }
 },
 "nbformat": 4,
 "nbformat_minor": 1
}
